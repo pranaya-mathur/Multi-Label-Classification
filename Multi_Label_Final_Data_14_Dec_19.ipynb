{
 "cells": [
  {
   "cell_type": "code",
   "execution_count": 1,
   "metadata": {
    "colab": {
     "base_uri": "https://localhost:8080/",
     "height": 122
    },
    "colab_type": "code",
    "id": "lhwkjC608n1a",
    "outputId": "56822956-cf48-4a06-80bf-92ae327f7a57"
   },
   "outputs": [
    {
     "name": "stdout",
     "output_type": "stream",
     "text": [
      "Go to this URL in a browser: https://accounts.google.com/o/oauth2/auth?client_id=947318989803-6bn6qk8qdgf4n4g3pfee6491hc0brc4i.apps.googleusercontent.com&redirect_uri=urn%3aietf%3awg%3aoauth%3a2.0%3aoob&response_type=code&scope=email%20https%3a%2f%2fwww.googleapis.com%2fauth%2fdocs.test%20https%3a%2f%2fwww.googleapis.com%2fauth%2fdrive%20https%3a%2f%2fwww.googleapis.com%2fauth%2fdrive.photos.readonly%20https%3a%2f%2fwww.googleapis.com%2fauth%2fpeopleapi.readonly\n",
      "\n",
      "Enter your authorization code:\n",
      "··········\n",
      "Mounted at /content/drive\n"
     ]
    }
   ],
   "source": [
    "from google.colab import drive\n",
    "drive.mount('/content/drive')"
   ]
  },
  {
   "cell_type": "code",
   "execution_count": 0,
   "metadata": {
    "colab": {},
    "colab_type": "code",
    "id": "ImMGxrqWyxB8"
   },
   "outputs": [],
   "source": [
    "import pandas as pd\n",
    "import numpy as np\n",
    "from keras.preprocessing.text import Tokenizer\n",
    "from keras.preprocessing.sequence import pad_sequences\n",
    "from keras.layers.wrappers import Bidirectional\n",
    "from keras.layers import Dense, Input, LSTM, Embedding, Dropout, Activation\n",
    "from keras.layers import SpatialDropout1D\n",
    "from keras.models import Model\n",
    "from keras.layers.normalization import BatchNormalization\n",
    "from keras.callbacks import EarlyStopping, ModelCheckpoint, Callback\n",
    "from keras.constraints import maxnorm\n",
    "from keras.models import model_from_json\n",
    "from keras.optimizers import Adam\n",
    "from keras import regularizers\n",
    "\n",
    "import tensorflow as tf\n",
    "\n",
    "from sklearn.model_selection import train_test_split\n",
    "from sklearn.preprocessing import MultiLabelBinarizer\n",
    "from sklearn.metrics import f1_score\n"
   ]
  },
  {
   "cell_type": "code",
   "execution_count": 0,
   "metadata": {
    "colab": {},
    "colab_type": "code",
    "id": "bMeAVHiz-HTn"
   },
   "outputs": [],
   "source": [
    "data = pd.read_csv(\"drive/My Drive/final_data.csv\")"
   ]
  },
  {
   "cell_type": "code",
   "execution_count": 4,
   "metadata": {
    "colab": {
     "base_uri": "https://localhost:8080/",
     "height": 848
    },
    "colab_type": "code",
    "id": "ueJlw9Pu-SF3",
    "outputId": "c40accad-de03-44a4-9202-89b9202783a0"
   },
   "outputs": [
    {
     "data": {
      "text/html": [
       "<div>\n",
       "<style scoped>\n",
       "    .dataframe tbody tr th:only-of-type {\n",
       "        vertical-align: middle;\n",
       "    }\n",
       "\n",
       "    .dataframe tbody tr th {\n",
       "        vertical-align: top;\n",
       "    }\n",
       "\n",
       "    .dataframe thead th {\n",
       "        text-align: right;\n",
       "    }\n",
       "</style>\n",
       "<table border=\"1\" class=\"dataframe\">\n",
       "  <thead>\n",
       "    <tr style=\"text-align: right;\">\n",
       "      <th></th>\n",
       "      <th>Unnamed: 0</th>\n",
       "      <th>persons covered treaty eligibility precily whether an llc s corporation is entitled to tax treaty benefits</th>\n",
       "      <th>pe precily construction installation pe</th>\n",
       "      <th>pe precily service pe</th>\n",
       "      <th>pe precily employee deputation</th>\n",
       "      <th>pe precily supervisory pe</th>\n",
       "      <th>pe precily force of attraction</th>\n",
       "      <th>pe precily profit attribution</th>\n",
       "      <th>pe precily fixed place pe</th>\n",
       "      <th>pe precily agency pe dape</th>\n",
       "      <th>pe precily others</th>\n",
       "      <th>business profits precily source of income</th>\n",
       "      <th>shipping air transport precily source of income from shipping air transport</th>\n",
       "      <th>shipping air transport precily slot charters</th>\n",
       "      <th>shipping air transport precily activities directly connected with transportation of ship</th>\n",
       "      <th>interest precily usance interest</th>\n",
       "      <th>interest precily taxability of discounting charges</th>\n",
       "      <th>interest precily payment on ccds</th>\n",
       "      <th>interest precily interest payments by branch and head office interse</th>\n",
       "      <th>interest precily others</th>\n",
       "      <th>royalty precily payment for leased line circuit connectivity charges</th>\n",
       "      <th>royalty precily software as a platform (saap) v software as a service (saas)</th>\n",
       "      <th>royalty precily exclusive distribution rights broadcasting rights</th>\n",
       "      <th>royalty precily payments for shrinked wrapped software</th>\n",
       "      <th>royalty precily payments for online access to database</th>\n",
       "      <th>royalty precily fees for use of satellite</th>\n",
       "      <th>royalty precily payment for knowhow designs engineering drawings etc</th>\n",
       "      <th>royalty precily equipment process royalty</th>\n",
       "      <th>royalty precily others</th>\n",
       "      <th>royaltyfts precily data processing whether royaltyfts</th>\n",
       "      <th>royaltyfts precily taxability of content delivery solutions</th>\n",
       "      <th>royaltyfts precily others</th>\n",
       "      <th>fts precily payments for technical reports</th>\n",
       "      <th>fts precily payments for standard facilities</th>\n",
       "      <th>fts precily payment for mineral oil exploration and related activities</th>\n",
       "      <th>fts precily payments towards reimbursement of expenses</th>\n",
       "      <th>fts precily payments made for training of employees of foreign companies</th>\n",
       "      <th>fts precily services inextricably linked</th>\n",
       "      <th>fts precily fts importance of human intervention</th>\n",
       "      <th>fts precily absence of fts clause in treaty business profits or other income</th>\n",
       "      <th>...</th>\n",
       "      <th>capital gains precily capital gains vs business income</th>\n",
       "      <th>capital gains precily joint development agreements (jda)</th>\n",
       "      <th>capital gains precily slump sale (section 50b)</th>\n",
       "      <th>capital gains precily buy back of sharescapital reduction</th>\n",
       "      <th>other sources precily gifts</th>\n",
       "      <th>other sources precily taxability of interest income on surplus capital subsidy from government of india</th>\n",
       "      <th>other sources precily capital subsidy prior to amendment in section 2</th>\n",
       "      <th>other sources precily others</th>\n",
       "      <th>unexplained income precily section 68 cash credits</th>\n",
       "      <th>unexplained income precily section 69 unexplained investments</th>\n",
       "      <th>unexplained income precily others</th>\n",
       "      <th>chapter via deductions precily deduction in respect of certain incomes</th>\n",
       "      <th>chapter via deductions precily others</th>\n",
       "      <th>minimum alternate tax precily computation of book profit</th>\n",
       "      <th>minimum alternate tax precily mat credit entitlement offset</th>\n",
       "      <th>minimum alternate tax precily others</th>\n",
       "      <th>prosecution precily initiation of prosecution proceedings</th>\n",
       "      <th>prosecution precily others</th>\n",
       "      <th>interest (interest on income tax refund) precily interest on income tax refund</th>\n",
       "      <th>interest (interest on income tax refund) precily others</th>\n",
       "      <th>carry forward of losses precily period of carry forward of losses in case of amalgamation</th>\n",
       "      <th>carry forward of losses precily year of cf of loss to the amalgamated company</th>\n",
       "      <th>carry forward of losses precily others</th>\n",
       "      <th>penalty precily levy of penalty 271(1)( c)</th>\n",
       "      <th>penalty precily 271f failure to furnish roi</th>\n",
       "      <th>penalty precily others</th>\n",
       "      <th>dispute resolution precily assessment proceedings us 143(3) and reassessment us 147</th>\n",
       "      <th>dispute resolution precily powers of drp ( dispute resolution panel)</th>\n",
       "      <th>dispute resolution precily grant of stay</th>\n",
       "      <th>dispute resolution precily time barred order under section 153 ( barred by limitation of law)</th>\n",
       "      <th>dispute resolution precily condonation of delay in filing of appeal</th>\n",
       "      <th>dispute resolution precily non filing of appeal against addition does not tantamount to acceptance</th>\n",
       "      <th>dispute resolution precily passing of draft assessment order in case of eligible assessee section 144c</th>\n",
       "      <th>dispute resolution precily invoking of rule 27 of tribunal rules</th>\n",
       "      <th>section 9 precily retrospective amendment in section 9 by finance act 2012</th>\n",
       "      <th>section 9 precily others</th>\n",
       "      <th>refund processing section 143(1d) precily others</th>\n",
       "      <th>dividend distribution tax precily section 115o rule 8 in case of agriculture business whether ddt should be recovered since the agricultural income perse is exempted</th>\n",
       "      <th>dividend distribution tax precily others</th>\n",
       "      <th>para</th>\n",
       "    </tr>\n",
       "  </thead>\n",
       "  <tbody>\n",
       "    <tr>\n",
       "      <th>0</th>\n",
       "      <td>25</td>\n",
       "      <td>1</td>\n",
       "      <td>1</td>\n",
       "      <td>1</td>\n",
       "      <td>1</td>\n",
       "      <td>1</td>\n",
       "      <td>1</td>\n",
       "      <td>1</td>\n",
       "      <td>1</td>\n",
       "      <td>1</td>\n",
       "      <td>1</td>\n",
       "      <td>1</td>\n",
       "      <td>1</td>\n",
       "      <td>0</td>\n",
       "      <td>0</td>\n",
       "      <td>1</td>\n",
       "      <td>0</td>\n",
       "      <td>0</td>\n",
       "      <td>0</td>\n",
       "      <td>0</td>\n",
       "      <td>1</td>\n",
       "      <td>0</td>\n",
       "      <td>0</td>\n",
       "      <td>0</td>\n",
       "      <td>0</td>\n",
       "      <td>0</td>\n",
       "      <td>0</td>\n",
       "      <td>0</td>\n",
       "      <td>0</td>\n",
       "      <td>1</td>\n",
       "      <td>0</td>\n",
       "      <td>0</td>\n",
       "      <td>1</td>\n",
       "      <td>0</td>\n",
       "      <td>0</td>\n",
       "      <td>0</td>\n",
       "      <td>0</td>\n",
       "      <td>0</td>\n",
       "      <td>0</td>\n",
       "      <td>0</td>\n",
       "      <td>...</td>\n",
       "      <td>0</td>\n",
       "      <td>0</td>\n",
       "      <td>0</td>\n",
       "      <td>0</td>\n",
       "      <td>0</td>\n",
       "      <td>0</td>\n",
       "      <td>0</td>\n",
       "      <td>0</td>\n",
       "      <td>0</td>\n",
       "      <td>0</td>\n",
       "      <td>0</td>\n",
       "      <td>0</td>\n",
       "      <td>0</td>\n",
       "      <td>0</td>\n",
       "      <td>0</td>\n",
       "      <td>0</td>\n",
       "      <td>0</td>\n",
       "      <td>0</td>\n",
       "      <td>0</td>\n",
       "      <td>0</td>\n",
       "      <td>0</td>\n",
       "      <td>0</td>\n",
       "      <td>0</td>\n",
       "      <td>0</td>\n",
       "      <td>0</td>\n",
       "      <td>0</td>\n",
       "      <td>0</td>\n",
       "      <td>0</td>\n",
       "      <td>0</td>\n",
       "      <td>0</td>\n",
       "      <td>0</td>\n",
       "      <td>0</td>\n",
       "      <td>0</td>\n",
       "      <td>0</td>\n",
       "      <td>1</td>\n",
       "      <td>0</td>\n",
       "      <td>0</td>\n",
       "      <td>0</td>\n",
       "      <td>0</td>\n",
       "      <td>2 the contention of the company was that this ...</td>\n",
       "    </tr>\n",
       "    <tr>\n",
       "      <th>1</th>\n",
       "      <td>29</td>\n",
       "      <td>1</td>\n",
       "      <td>1</td>\n",
       "      <td>1</td>\n",
       "      <td>1</td>\n",
       "      <td>1</td>\n",
       "      <td>1</td>\n",
       "      <td>1</td>\n",
       "      <td>1</td>\n",
       "      <td>1</td>\n",
       "      <td>1</td>\n",
       "      <td>1</td>\n",
       "      <td>1</td>\n",
       "      <td>0</td>\n",
       "      <td>0</td>\n",
       "      <td>1</td>\n",
       "      <td>0</td>\n",
       "      <td>0</td>\n",
       "      <td>0</td>\n",
       "      <td>0</td>\n",
       "      <td>1</td>\n",
       "      <td>0</td>\n",
       "      <td>0</td>\n",
       "      <td>0</td>\n",
       "      <td>0</td>\n",
       "      <td>0</td>\n",
       "      <td>0</td>\n",
       "      <td>0</td>\n",
       "      <td>0</td>\n",
       "      <td>1</td>\n",
       "      <td>0</td>\n",
       "      <td>0</td>\n",
       "      <td>1</td>\n",
       "      <td>0</td>\n",
       "      <td>0</td>\n",
       "      <td>0</td>\n",
       "      <td>0</td>\n",
       "      <td>0</td>\n",
       "      <td>0</td>\n",
       "      <td>0</td>\n",
       "      <td>...</td>\n",
       "      <td>0</td>\n",
       "      <td>0</td>\n",
       "      <td>0</td>\n",
       "      <td>0</td>\n",
       "      <td>0</td>\n",
       "      <td>0</td>\n",
       "      <td>0</td>\n",
       "      <td>0</td>\n",
       "      <td>0</td>\n",
       "      <td>0</td>\n",
       "      <td>0</td>\n",
       "      <td>0</td>\n",
       "      <td>0</td>\n",
       "      <td>0</td>\n",
       "      <td>0</td>\n",
       "      <td>0</td>\n",
       "      <td>0</td>\n",
       "      <td>0</td>\n",
       "      <td>0</td>\n",
       "      <td>0</td>\n",
       "      <td>0</td>\n",
       "      <td>0</td>\n",
       "      <td>0</td>\n",
       "      <td>0</td>\n",
       "      <td>0</td>\n",
       "      <td>0</td>\n",
       "      <td>0</td>\n",
       "      <td>0</td>\n",
       "      <td>0</td>\n",
       "      <td>0</td>\n",
       "      <td>0</td>\n",
       "      <td>0</td>\n",
       "      <td>0</td>\n",
       "      <td>0</td>\n",
       "      <td>1</td>\n",
       "      <td>0</td>\n",
       "      <td>0</td>\n",
       "      <td>0</td>\n",
       "      <td>0</td>\n",
       "      <td>6 the questions referred to us by the board fo...</td>\n",
       "    </tr>\n",
       "    <tr>\n",
       "      <th>2</th>\n",
       "      <td>31</td>\n",
       "      <td>1</td>\n",
       "      <td>1</td>\n",
       "      <td>1</td>\n",
       "      <td>1</td>\n",
       "      <td>1</td>\n",
       "      <td>1</td>\n",
       "      <td>1</td>\n",
       "      <td>1</td>\n",
       "      <td>1</td>\n",
       "      <td>1</td>\n",
       "      <td>1</td>\n",
       "      <td>1</td>\n",
       "      <td>0</td>\n",
       "      <td>0</td>\n",
       "      <td>1</td>\n",
       "      <td>0</td>\n",
       "      <td>0</td>\n",
       "      <td>0</td>\n",
       "      <td>0</td>\n",
       "      <td>1</td>\n",
       "      <td>0</td>\n",
       "      <td>0</td>\n",
       "      <td>0</td>\n",
       "      <td>0</td>\n",
       "      <td>0</td>\n",
       "      <td>0</td>\n",
       "      <td>0</td>\n",
       "      <td>0</td>\n",
       "      <td>1</td>\n",
       "      <td>0</td>\n",
       "      <td>0</td>\n",
       "      <td>1</td>\n",
       "      <td>0</td>\n",
       "      <td>0</td>\n",
       "      <td>0</td>\n",
       "      <td>0</td>\n",
       "      <td>0</td>\n",
       "      <td>0</td>\n",
       "      <td>0</td>\n",
       "      <td>...</td>\n",
       "      <td>0</td>\n",
       "      <td>0</td>\n",
       "      <td>0</td>\n",
       "      <td>0</td>\n",
       "      <td>0</td>\n",
       "      <td>0</td>\n",
       "      <td>0</td>\n",
       "      <td>0</td>\n",
       "      <td>0</td>\n",
       "      <td>0</td>\n",
       "      <td>0</td>\n",
       "      <td>0</td>\n",
       "      <td>0</td>\n",
       "      <td>0</td>\n",
       "      <td>0</td>\n",
       "      <td>0</td>\n",
       "      <td>0</td>\n",
       "      <td>0</td>\n",
       "      <td>0</td>\n",
       "      <td>0</td>\n",
       "      <td>0</td>\n",
       "      <td>0</td>\n",
       "      <td>0</td>\n",
       "      <td>0</td>\n",
       "      <td>0</td>\n",
       "      <td>0</td>\n",
       "      <td>0</td>\n",
       "      <td>0</td>\n",
       "      <td>0</td>\n",
       "      <td>0</td>\n",
       "      <td>0</td>\n",
       "      <td>0</td>\n",
       "      <td>0</td>\n",
       "      <td>0</td>\n",
       "      <td>1</td>\n",
       "      <td>0</td>\n",
       "      <td>0</td>\n",
       "      <td>0</td>\n",
       "      <td>0</td>\n",
       "      <td>8 as regards the applicability of section 8 of...</td>\n",
       "    </tr>\n",
       "    <tr>\n",
       "      <th>3</th>\n",
       "      <td>34</td>\n",
       "      <td>1</td>\n",
       "      <td>1</td>\n",
       "      <td>1</td>\n",
       "      <td>1</td>\n",
       "      <td>1</td>\n",
       "      <td>1</td>\n",
       "      <td>1</td>\n",
       "      <td>1</td>\n",
       "      <td>1</td>\n",
       "      <td>1</td>\n",
       "      <td>1</td>\n",
       "      <td>1</td>\n",
       "      <td>0</td>\n",
       "      <td>0</td>\n",
       "      <td>1</td>\n",
       "      <td>0</td>\n",
       "      <td>0</td>\n",
       "      <td>0</td>\n",
       "      <td>0</td>\n",
       "      <td>1</td>\n",
       "      <td>0</td>\n",
       "      <td>0</td>\n",
       "      <td>0</td>\n",
       "      <td>0</td>\n",
       "      <td>0</td>\n",
       "      <td>0</td>\n",
       "      <td>0</td>\n",
       "      <td>0</td>\n",
       "      <td>1</td>\n",
       "      <td>0</td>\n",
       "      <td>0</td>\n",
       "      <td>1</td>\n",
       "      <td>0</td>\n",
       "      <td>0</td>\n",
       "      <td>0</td>\n",
       "      <td>0</td>\n",
       "      <td>0</td>\n",
       "      <td>0</td>\n",
       "      <td>0</td>\n",
       "      <td>...</td>\n",
       "      <td>0</td>\n",
       "      <td>0</td>\n",
       "      <td>0</td>\n",
       "      <td>0</td>\n",
       "      <td>0</td>\n",
       "      <td>0</td>\n",
       "      <td>0</td>\n",
       "      <td>0</td>\n",
       "      <td>0</td>\n",
       "      <td>0</td>\n",
       "      <td>0</td>\n",
       "      <td>0</td>\n",
       "      <td>0</td>\n",
       "      <td>0</td>\n",
       "      <td>0</td>\n",
       "      <td>0</td>\n",
       "      <td>0</td>\n",
       "      <td>0</td>\n",
       "      <td>0</td>\n",
       "      <td>0</td>\n",
       "      <td>0</td>\n",
       "      <td>0</td>\n",
       "      <td>0</td>\n",
       "      <td>0</td>\n",
       "      <td>0</td>\n",
       "      <td>0</td>\n",
       "      <td>0</td>\n",
       "      <td>0</td>\n",
       "      <td>0</td>\n",
       "      <td>0</td>\n",
       "      <td>0</td>\n",
       "      <td>0</td>\n",
       "      <td>0</td>\n",
       "      <td>0</td>\n",
       "      <td>1</td>\n",
       "      <td>0</td>\n",
       "      <td>0</td>\n",
       "      <td>0</td>\n",
       "      <td>0</td>\n",
       "      <td>11 under the former incometax act no ii of 188...</td>\n",
       "    </tr>\n",
       "    <tr>\n",
       "      <th>4</th>\n",
       "      <td>40</td>\n",
       "      <td>1</td>\n",
       "      <td>1</td>\n",
       "      <td>1</td>\n",
       "      <td>1</td>\n",
       "      <td>1</td>\n",
       "      <td>1</td>\n",
       "      <td>1</td>\n",
       "      <td>1</td>\n",
       "      <td>1</td>\n",
       "      <td>1</td>\n",
       "      <td>1</td>\n",
       "      <td>1</td>\n",
       "      <td>0</td>\n",
       "      <td>0</td>\n",
       "      <td>1</td>\n",
       "      <td>0</td>\n",
       "      <td>0</td>\n",
       "      <td>0</td>\n",
       "      <td>0</td>\n",
       "      <td>1</td>\n",
       "      <td>0</td>\n",
       "      <td>0</td>\n",
       "      <td>0</td>\n",
       "      <td>0</td>\n",
       "      <td>0</td>\n",
       "      <td>0</td>\n",
       "      <td>0</td>\n",
       "      <td>0</td>\n",
       "      <td>1</td>\n",
       "      <td>0</td>\n",
       "      <td>0</td>\n",
       "      <td>1</td>\n",
       "      <td>0</td>\n",
       "      <td>0</td>\n",
       "      <td>0</td>\n",
       "      <td>0</td>\n",
       "      <td>0</td>\n",
       "      <td>0</td>\n",
       "      <td>0</td>\n",
       "      <td>...</td>\n",
       "      <td>0</td>\n",
       "      <td>0</td>\n",
       "      <td>0</td>\n",
       "      <td>0</td>\n",
       "      <td>0</td>\n",
       "      <td>0</td>\n",
       "      <td>0</td>\n",
       "      <td>0</td>\n",
       "      <td>0</td>\n",
       "      <td>0</td>\n",
       "      <td>0</td>\n",
       "      <td>0</td>\n",
       "      <td>0</td>\n",
       "      <td>0</td>\n",
       "      <td>0</td>\n",
       "      <td>0</td>\n",
       "      <td>0</td>\n",
       "      <td>0</td>\n",
       "      <td>0</td>\n",
       "      <td>0</td>\n",
       "      <td>0</td>\n",
       "      <td>0</td>\n",
       "      <td>0</td>\n",
       "      <td>0</td>\n",
       "      <td>0</td>\n",
       "      <td>0</td>\n",
       "      <td>0</td>\n",
       "      <td>0</td>\n",
       "      <td>0</td>\n",
       "      <td>0</td>\n",
       "      <td>0</td>\n",
       "      <td>0</td>\n",
       "      <td>0</td>\n",
       "      <td>0</td>\n",
       "      <td>1</td>\n",
       "      <td>0</td>\n",
       "      <td>0</td>\n",
       "      <td>0</td>\n",
       "      <td>0</td>\n",
       "      <td>18 finally it formulates the questions for dec...</td>\n",
       "    </tr>\n",
       "  </tbody>\n",
       "</table>\n",
       "<p>5 rows × 124 columns</p>\n",
       "</div>"
      ],
      "text/plain": [
       "   Unnamed: 0  ...                                               para\n",
       "0          25  ...  2 the contention of the company was that this ...\n",
       "1          29  ...  6 the questions referred to us by the board fo...\n",
       "2          31  ...  8 as regards the applicability of section 8 of...\n",
       "3          34  ...  11 under the former incometax act no ii of 188...\n",
       "4          40  ...  18 finally it formulates the questions for dec...\n",
       "\n",
       "[5 rows x 124 columns]"
      ]
     },
     "execution_count": 4,
     "metadata": {
      "tags": []
     },
     "output_type": "execute_result"
    }
   ],
   "source": [
    "data.head()"
   ]
  },
  {
   "cell_type": "code",
   "execution_count": 5,
   "metadata": {
    "colab": {
     "base_uri": "https://localhost:8080/",
     "height": 326
    },
    "colab_type": "code",
    "id": "MJRAOJwL-UgH",
    "outputId": "4618b078-a2b7-4fcf-a1dc-fc5c7019ab7d"
   },
   "outputs": [
    {
     "data": {
      "text/plain": [
       "Index(['Unnamed: 0',\n",
       "       'persons covered treaty eligibility precily whether an llc s corporation is entitled to tax treaty benefits',\n",
       "       'pe precily construction installation pe', 'pe precily service pe',\n",
       "       'pe precily employee deputation', 'pe precily supervisory pe',\n",
       "       'pe precily force of attraction', 'pe precily profit attribution',\n",
       "       'pe precily fixed place pe', 'pe precily agency pe dape',\n",
       "       ...\n",
       "       'dispute resolution precily condonation of delay in filing of appeal',\n",
       "       'dispute resolution precily non filing of appeal against addition does not tantamount to acceptance',\n",
       "       'dispute resolution precily passing of draft assessment order in case of eligible assessee section 144c',\n",
       "       'dispute resolution precily invoking of rule 27 of tribunal rules',\n",
       "       'section 9 precily retrospective amendment in section 9 by finance act 2012',\n",
       "       'section 9 precily others',\n",
       "       'refund processing section 143(1d) precily others',\n",
       "       'dividend distribution tax precily section 115o rule 8 in case of agriculture business whether ddt should be recovered since the agricultural income perse is exempted',\n",
       "       'dividend distribution tax precily others', 'para'],\n",
       "      dtype='object', length=124)"
      ]
     },
     "execution_count": 5,
     "metadata": {
      "tags": []
     },
     "output_type": "execute_result"
    }
   ],
   "source": [
    "data.columns"
   ]
  },
  {
   "cell_type": "code",
   "execution_count": 0,
   "metadata": {
    "colab": {},
    "colab_type": "code",
    "id": "d5N-wn3n-cn9"
   },
   "outputs": [],
   "source": [
    "data.drop(\"Unnamed: 0\",inplace=True,axis=1)"
   ]
  },
  {
   "cell_type": "code",
   "execution_count": 0,
   "metadata": {
    "colab": {},
    "colab_type": "code",
    "id": "aYkSsz_I-kWW"
   },
   "outputs": [],
   "source": [
    "# F1 Score\n",
    "def f1_score(y_true, y_pred):\n",
    "\t\"\"\"\n",
    "\tCompute the micro f(b) score with b=1.\n",
    "\t\"\"\"\n",
    "\ty_true = tf.cast(y_true, \"float32\")\n",
    "\ty_pred = tf.cast(tf.round(y_pred), \"float32\") # implicit 0.5 threshold via tf.round\n",
    "\ty_correct = y_true * y_pred\n",
    "\n",
    "\n",
    "\tsum_true = tf.reduce_sum(y_true, axis=1)\n",
    "\tsum_pred = tf.reduce_sum(y_pred, axis=1)\n",
    "\tsum_correct = tf.reduce_sum(y_correct, axis=1)\n",
    "\n",
    "\n",
    "\tprecision = sum_correct / sum_pred\n",
    "\trecall = sum_correct / sum_true\n",
    "\tf_score = 2 * precision * recall / (precision + recall)\n",
    "\tf_score = tf.where(tf.is_nan(f_score), tf.zeros_like(f_score), f_score)\n",
    "\n",
    "\n",
    "\treturn tf.reduce_mean(f_score)"
   ]
  },
  {
   "cell_type": "code",
   "execution_count": 0,
   "metadata": {
    "colab": {},
    "colab_type": "code",
    "id": "hMZXXDiJ-3hh"
   },
   "outputs": [],
   "source": [
    "from sklearn.model_selection import train_test_split"
   ]
  },
  {
   "cell_type": "code",
   "execution_count": 10,
   "metadata": {
    "colab": {
     "base_uri": "https://localhost:8080/",
     "height": 34
    },
    "colab_type": "code",
    "id": "_hbEkcIn_IVo",
    "outputId": "ba529bd7-9a52-4458-ce75-d136d5d2274f"
   },
   "outputs": [
    {
     "data": {
      "text/plain": [
       "(117704, 123)"
      ]
     },
     "execution_count": 10,
     "metadata": {
      "tags": []
     },
     "output_type": "execute_result"
    }
   ],
   "source": [
    "data.shape"
   ]
  },
  {
   "cell_type": "code",
   "execution_count": 0,
   "metadata": {
    "colab": {},
    "colab_type": "code",
    "id": "xcGkV_lr_Kah"
   },
   "outputs": [],
   "source": [
    "train, validation = train_test_split(data,test_size=0.2,random_state=123)\n",
    "train,test = train_test_split(train,test_size=0.18,random_state=123)"
   ]
  },
  {
   "cell_type": "code",
   "execution_count": 12,
   "metadata": {
    "colab": {
     "base_uri": "https://localhost:8080/",
     "height": 34
    },
    "colab_type": "code",
    "id": "P07VGO-p_cG9",
    "outputId": "5f20c06d-f7b7-431e-eca8-058966912acb"
   },
   "outputs": [
    {
     "data": {
      "text/plain": [
       "(77213, 123)"
      ]
     },
     "execution_count": 12,
     "metadata": {
      "tags": []
     },
     "output_type": "execute_result"
    }
   ],
   "source": [
    "train.shape"
   ]
  },
  {
   "cell_type": "code",
   "execution_count": 13,
   "metadata": {
    "colab": {
     "base_uri": "https://localhost:8080/",
     "height": 34
    },
    "colab_type": "code",
    "id": "zS3x1KMZ_ddG",
    "outputId": "bf464f87-9165-4103-aea3-7c5bc048f0c0"
   },
   "outputs": [
    {
     "data": {
      "text/plain": [
       "(23541, 123)"
      ]
     },
     "execution_count": 13,
     "metadata": {
      "tags": []
     },
     "output_type": "execute_result"
    }
   ],
   "source": [
    "validation.shape"
   ]
  },
  {
   "cell_type": "code",
   "execution_count": 14,
   "metadata": {
    "colab": {
     "base_uri": "https://localhost:8080/",
     "height": 34
    },
    "colab_type": "code",
    "id": "WeT7N0UN_fq_",
    "outputId": "96b45a79-8fe9-426b-c3e7-9e5c65ec98ea"
   },
   "outputs": [
    {
     "data": {
      "text/plain": [
       "(16950, 123)"
      ]
     },
     "execution_count": 14,
     "metadata": {
      "tags": []
     },
     "output_type": "execute_result"
    }
   ],
   "source": [
    "test.shape"
   ]
  },
  {
   "cell_type": "code",
   "execution_count": 0,
   "metadata": {
    "colab": {},
    "colab_type": "code",
    "id": "ZEs4-KBU_hVr"
   },
   "outputs": [],
   "source": [
    "features_train = train[\"para\"]\n",
    "features_valid = validation[\"para\"]\n",
    "features_test = test[\"para\"]"
   ]
  },
  {
   "cell_type": "code",
   "execution_count": 0,
   "metadata": {
    "colab": {},
    "colab_type": "code",
    "id": "iW8IuAOd_pn2"
   },
   "outputs": [],
   "source": [
    "y_train = train.iloc[:,:-1]\n",
    "y_test = test.iloc[:,:-1]\n",
    "y_valid = validation.iloc[:,:-1]"
   ]
  },
  {
   "cell_type": "code",
   "execution_count": 23,
   "metadata": {
    "colab": {
     "base_uri": "https://localhost:8080/",
     "height": 51
    },
    "colab_type": "code",
    "id": "dzJX-0_oA8o6",
    "outputId": "8431bb65-dad3-4117-ba2e-6781cfa69ec2"
   },
   "outputs": [
    {
     "name": "stdout",
     "output_type": "stream",
     "text": [
      "Loading word vectors...\n",
      "Found 1917494 word vectors.\n"
     ]
    }
   ],
   "source": [
    "# load in pre-trained word vectors\n",
    "print('Loading word vectors...')\n",
    "word2vec = {}\n",
    "with open(\"drive/My Drive/ content glove glove.42B.300d.txt\") as f:\n",
    "  # is just a space-separated text file in the format:\n",
    "  # word vec[0] vec[1] vec[2] ...\n",
    "  for line in f:\n",
    "    values = line.split()\n",
    "    word = values[0]\n",
    "    vec = np.asarray(values[1:], dtype='float32')\n",
    "    word2vec[word] = vec\n",
    "print('Found %s word vectors.' % len(word2vec))\n"
   ]
  },
  {
   "cell_type": "code",
   "execution_count": 0,
   "metadata": {
    "colab": {},
    "colab_type": "code",
    "id": "d_NLmK_aBrC5"
   },
   "outputs": [],
   "source": [
    "MAX_VOCAB_SIZE = 80000\n",
    "EMBEDDING_DIM = 300"
   ]
  },
  {
   "cell_type": "code",
   "execution_count": 0,
   "metadata": {
    "colab": {},
    "colab_type": "code",
    "id": "IAdy0QXOCjol"
   },
   "outputs": [],
   "source": [
    "# convert the sentences (strings) into integers\n",
    "tokenizer = Tokenizer(num_words=MAX_VOCAB_SIZE)\n",
    "tokenizer.fit_on_texts(features_train)\n",
    "sequences_train = tokenizer.texts_to_sequences(features_train)\n",
    "sequences_test = tokenizer.texts_to_sequences(features_test)"
   ]
  },
  {
   "cell_type": "code",
   "execution_count": 0,
   "metadata": {
    "colab": {},
    "colab_type": "code",
    "id": "S4NTPtX8CsF_"
   },
   "outputs": [],
   "source": [
    "sequences_valid = tokenizer.texts_to_sequences(features_valid)"
   ]
  },
  {
   "cell_type": "code",
   "execution_count": 28,
   "metadata": {
    "colab": {
     "base_uri": "https://localhost:8080/",
     "height": 34
    },
    "colab_type": "code",
    "id": "f7ivYKH9C4ab",
    "outputId": "1547b8cf-d813-46ac-ef6a-baf162ce1ec5"
   },
   "outputs": [
    {
     "name": "stdout",
     "output_type": "stream",
     "text": [
      "Found 585471 unique tokens.\n"
     ]
    }
   ],
   "source": [
    "# get word -> integer mapping\n",
    "word2idx = tokenizer.word_index\n",
    "print('Found %s unique tokens.' % len(word2idx))"
   ]
  },
  {
   "cell_type": "code",
   "execution_count": 0,
   "metadata": {
    "colab": {},
    "colab_type": "code",
    "id": "rFadrd3XC6q9"
   },
   "outputs": [],
   "source": [
    "length = []\n",
    "\n",
    "for i in sequences_train:\n",
    "\n",
    "  length.append(len(i))"
   ]
  },
  {
   "cell_type": "code",
   "execution_count": 30,
   "metadata": {
    "colab": {
     "base_uri": "https://localhost:8080/",
     "height": 286
    },
    "colab_type": "code",
    "id": "hRJhE2nhC_Fc",
    "outputId": "ead5965f-451a-44f2-ded5-91dd8918f708"
   },
   "outputs": [
    {
     "data": {
      "text/plain": [
       "<matplotlib.axes._subplots.AxesSubplot at 0x7f9a38ed9c50>"
      ]
     },
     "execution_count": 30,
     "metadata": {
      "tags": []
     },
     "output_type": "execute_result"
    },
    {
     "data": {
      "image/png": "[encoded data removed]",
      "text/plain": [
       "<Figure size 432x288 with 1 Axes>"
      ]
     },
     "metadata": {
      "tags": []
     },
     "output_type": "display_data"
    }
   ],
   "source": [
    "import seaborn as sns\n",
    "import matplotlib.pyplot as plt\n",
    "sns.set()\n",
    "sns.distplot(length)"
   ]
  },
  {
   "cell_type": "code",
   "execution_count": 0,
   "metadata": {
    "colab": {},
    "colab_type": "code",
    "id": "iwQpuuP6DEey"
   },
   "outputs": [],
   "source": [
    "MAX_SEQUENCE_LENGTH = 500"
   ]
  },
  {
   "cell_type": "code",
   "execution_count": 33,
   "metadata": {
    "colab": {
     "base_uri": "https://localhost:8080/",
     "height": 68
    },
    "colab_type": "code",
    "id": "-eyQyCcyDJGP",
    "outputId": "e89af9a0-3e71-4ce9-cf77-b8421df0cc0b"
   },
   "outputs": [
    {
     "name": "stdout",
     "output_type": "stream",
     "text": [
      "Shape of data tensor: (77213, 500)\n",
      "Shape of data tensor: (16950, 500)\n",
      "Shape of data tensor: (23541, 500)\n"
     ]
    }
   ],
   "source": [
    "encoded_train = pad_sequences(sequences_train,maxlen=MAX_SEQUENCE_LENGTH)\n",
    "print('Shape of data tensor:', encoded_train.shape)\n",
    "encoded_test = pad_sequences(sequences_test, maxlen=MAX_SEQUENCE_LENGTH)\n",
    "print('Shape of data tensor:', encoded_test.shape)\n",
    "encoded_valid = pad_sequences(sequences_valid, maxlen=MAX_SEQUENCE_LENGTH)\n",
    "print('Shape of data tensor:', encoded_valid.shape)"
   ]
  },
  {
   "cell_type": "code",
   "execution_count": 34,
   "metadata": {
    "colab": {
     "base_uri": "https://localhost:8080/",
     "height": 51
    },
    "colab_type": "code",
    "id": "R7ZQonRDDRnv",
    "outputId": "50cf00d8-7fec-440b-bff0-67f5d0f8ab3a"
   },
   "outputs": [
    {
     "name": "stdout",
     "output_type": "stream",
     "text": [
      "Filling pre-trained embeddings...\n",
      "(80000, 300)\n"
     ]
    }
   ],
   "source": [
    "# prepare embedding matrix\n",
    "print('Filling pre-trained embeddings...')\n",
    "num_words = min(MAX_VOCAB_SIZE, len(word2idx) + 1)\n",
    "embedding_matrix = np.zeros((num_words, EMBEDDING_DIM))\n",
    "for word, i in word2idx.items():\n",
    "  if i < MAX_VOCAB_SIZE:\n",
    "    embedding_vector = word2vec.get(word)\n",
    "    if embedding_vector is not None:\n",
    "      # words not found in embedding index will be all zeros.\n",
    "        embedding_matrix[i] = embedding_vector\n",
    "\n",
    "print(embedding_matrix.shape)"
   ]
  },
  {
   "cell_type": "code",
   "execution_count": 0,
   "metadata": {
    "colab": {},
    "colab_type": "code",
    "id": "Ns_Yw0frDkXw"
   },
   "outputs": [],
   "source": [
    "import numpy as np\n",
    "import matplotlib.pyplot as plt\n",
    "import seaborn as sns\n",
    "from keras.models import Model, load_model \n",
    "from keras.layers import LSTM, Bidirectional, GlobalMaxPool1D, Dropout, Conv1D,Dense, Embedding, Input, GRU, GlobalAveragePooling1D, GlobalMaxPooling1D, concatenate\n",
    "from keras.preprocessing.sequence import pad_sequences\n",
    "from keras.preprocessing.text import Tokenizer\n",
    "from keras.optimizers import Adam, RMSprop\n",
    "from keras.callbacks import TensorBoard, ModelCheckpoint, EarlyStopping\n",
    "from sklearn import metrics\n",
    "from sklearn.model_selection import train_test_split"
   ]
  },
  {
   "cell_type": "code",
   "execution_count": 42,
   "metadata": {
    "colab": {
     "base_uri": "https://localhost:8080/",
     "height": 34
    },
    "colab_type": "code",
    "id": "rR-Zz5wrDYQU",
    "outputId": "e37c24c0-7d98-4ca4-be68-9b46769bd9ef"
   },
   "outputs": [
    {
     "name": "stdout",
     "output_type": "stream",
     "text": [
      "Building model...\n"
     ]
    }
   ],
   "source": [
    "embedding_layer = Embedding(\n",
    "  num_words,\n",
    "  EMBEDDING_DIM,\n",
    "  weights=[embedding_matrix],\n",
    "  input_length=MAX_SEQUENCE_LENGTH,\n",
    "  trainable=False\n",
    ")\n",
    "\n",
    "\n",
    "\n",
    "print('Building model...')\n",
    "\n",
    "# create an LSTM network with a single LSTM\n",
    "input_ = Input(shape=(MAX_SEQUENCE_LENGTH,))\n",
    "x = embedding_layer(input_)\n",
    "x = Bidirectional(GRU(128, return_sequences=True, dropout=0.1,\n",
    "                                                      recurrent_dropout=0.1))(x)\n",
    " \n",
    "x = Conv1D(64, kernel_size=3, padding=\"valid\", kernel_initializer=\"glorot_uniform\")(x)\n",
    " \n",
    "avg_pool = GlobalAveragePooling1D()(x)\n",
    "max_pool = GlobalMaxPooling1D()(x)\n",
    " \n",
    "x = concatenate([avg_pool, max_pool])\n",
    " \n",
    "preds = Dense(122, activation=\"sigmoid\")(x)\n",
    " \n",
    "model = Model(input_, preds)\n",
    " \n",
    "\n",
    " \n",
    "model.compile(loss='binary_crossentropy', optimizer=Adam(lr=1e-3), metrics=[f1_score])"
   ]
  },
  {
   "cell_type": "code",
   "execution_count": 0,
   "metadata": {
    "colab": {},
    "colab_type": "code",
    "id": "x1b87EG_Dpb_"
   },
   "outputs": [],
   "source": [
    "# Callbacks\n",
    "model_3 = ModelCheckpoint('model_bilstm_multilabel_2.h5', save_best_only=True, monitor='val_loss', mode='min')\n",
    "logdir = \"logs/model_bilstm_multilabel/\"\n",
    "tensorboard_callback = TensorBoard(log_dir=logdir)"
   ]
  },
  {
   "cell_type": "code",
   "execution_count": 44,
   "metadata": {
    "colab": {
     "base_uri": "https://localhost:8080/",
     "height": 445
    },
    "colab_type": "code",
    "id": "-NPJK4GoDuOz",
    "outputId": "e68c2b11-44dc-4bae-c194-1f03af881b87"
   },
   "outputs": [
    {
     "name": "stdout",
     "output_type": "stream",
     "text": [
      "Training model...\n",
      "Train on 77213 samples, validate on 23541 samples\n",
      "Epoch 1/10\n",
      "77213/77213 [==============================] - 257s 3ms/step - loss: 0.1881 - f1_score: 0.0453 - val_loss: 0.1230 - val_f1_score: 0.1068\n",
      "WARNING:tensorflow:From /usr/local/lib/python3.6/dist-packages/keras/callbacks.py:1265: The name tf.Summary is deprecated. Please use tf.compat.v1.Summary instead.\n",
      "\n",
      "Epoch 2/10\n",
      "77213/77213 [==============================] - 250s 3ms/step - loss: 0.1068 - f1_score: 0.1711 - val_loss: 0.0932 - val_f1_score: 0.2333\n",
      "Epoch 3/10\n",
      "77213/77213 [==============================] - 248s 3ms/step - loss: 0.0882 - f1_score: 0.2689 - val_loss: 0.0825 - val_f1_score: 0.3104\n",
      "Epoch 4/10\n",
      "77213/77213 [==============================] - 246s 3ms/step - loss: 0.0792 - f1_score: 0.3382 - val_loss: 0.0755 - val_f1_score: 0.3886\n",
      "Epoch 5/10\n",
      "77213/77213 [==============================] - 244s 3ms/step - loss: 0.0730 - f1_score: 0.3947 - val_loss: 0.0704 - val_f1_score: 0.4322\n",
      "Epoch 6/10\n",
      "77213/77213 [==============================] - 244s 3ms/step - loss: 0.0682 - f1_score: 0.4412 - val_loss: 0.0670 - val_f1_score: 0.4588\n",
      "Epoch 7/10\n",
      "77213/77213 [==============================] - 243s 3ms/step - loss: 0.0646 - f1_score: 0.4741 - val_loss: 0.0643 - val_f1_score: 0.4932\n",
      "Epoch 8/10\n",
      "77213/77213 [==============================] - 241s 3ms/step - loss: 0.0615 - f1_score: 0.4989 - val_loss: 0.0623 - val_f1_score: 0.5226\n",
      "Epoch 9/10\n",
      "77213/77213 [==============================] - 243s 3ms/step - loss: 0.0591 - f1_score: 0.5200 - val_loss: 0.0609 - val_f1_score: 0.5341\n",
      "Epoch 10/10\n",
      "77213/77213 [==============================] - 241s 3ms/step - loss: 0.0571 - f1_score: 0.5359 - val_loss: 0.0596 - val_f1_score: 0.5405\n"
     ]
    }
   ],
   "source": [
    "print('Training model...')\n",
    "r = model.fit(\n",
    "  encoded_train,\n",
    "  y_train,\n",
    "  batch_size=512,\n",
    "  epochs=10,\n",
    "  validation_data=(encoded_valid,y_valid),callbacks=[tensorboard_callback,model_3]\n",
    ")"
   ]
  },
  {
   "cell_type": "code",
   "execution_count": 45,
   "metadata": {
    "colab": {
     "base_uri": "https://localhost:8080/",
     "height": 34
    },
    "colab_type": "code",
    "id": "WDTv6Cg5Dy-j",
    "outputId": "603adc09-6f4f-46b9-ed9f-b6d8d6c86da7"
   },
   "outputs": [
    {
     "name": "stdout",
     "output_type": "stream",
     "text": [
      "16950/16950 [==============================] - 63s 4ms/step\n"
     ]
    }
   ],
   "source": [
    "result = model.evaluate(encoded_test,y_test,batch_size=128)"
   ]
  },
  {
   "cell_type": "code",
   "execution_count": 46,
   "metadata": {
    "colab": {
     "base_uri": "https://localhost:8080/",
     "height": 34
    },
    "colab_type": "code",
    "id": "vdUWq1IGNwrI",
    "outputId": "e3a4e3c4-d8d5-48bc-8626-fe66df234e94"
   },
   "outputs": [
    {
     "data": {
      "text/plain": [
       "[0.05890754989026922, 0.5452371490107173]"
      ]
     },
     "execution_count": 46,
     "metadata": {
      "tags": []
     },
     "output_type": "execute_result"
    }
   ],
   "source": [
    "result"
   ]
  },
  {
   "cell_type": "code",
   "execution_count": 0,
   "metadata": {
    "colab": {},
    "colab_type": "code",
    "id": "ZOOL7Fm2OQFI"
   },
   "outputs": [],
   "source": []
  }
 ],
 "metadata": {
  "accelerator": "GPU",
  "colab": {
   "name": "Multi Label Final Data 14 Dec 19.ipynb",
   "provenance": []
  },
  "kernelspec": {
   "display_name": "Python 3",
   "language": "python",
   "name": "python3"
  },
  "language_info": {
   "codemirror_mode": {
    "name": "ipython",
    "version": 3
   },
   "file_extension": ".py",
   "mimetype": "text/x-python",
   "name": "python",
   "nbconvert_exporter": "python",
   "pygments_lexer": "ipython3",
   "version": "3.6.8"
  }
 },
 "nbformat": 4,
 "nbformat_minor": 1
}
