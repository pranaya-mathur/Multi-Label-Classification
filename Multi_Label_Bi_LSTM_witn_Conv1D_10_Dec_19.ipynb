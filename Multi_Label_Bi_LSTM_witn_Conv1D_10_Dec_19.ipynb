{
 "cells": [
  {
   "cell_type": "code",
   "execution_count": 15,
   "metadata": {
    "colab": {
     "base_uri": "https://localhost:8080/",
     "height": 129
    },
    "colab_type": "code",
    "id": "gxiaxtxdK-Yh",
    "outputId": "b953df62-48ff-43bb-f9c2-bae71d51c6e3"
   },
   "outputs": [
    {
     "name": "stdout",
     "output_type": "stream",
     "text": [
      "Go to this URL in a browser: https://accounts.google.com/o/oauth2/auth?client_id=947318989803-6bn6qk8qdgf4n4g3pfee6491hc0brc4i.apps.googleusercontent.com&redirect_uri=urn%3aietf%3awg%3aoauth%3a2.0%3aoob&response_type=code&scope=email%20https%3a%2f%2fwww.googleapis.com%2fauth%2fdocs.test%20https%3a%2f%2fwww.googleapis.com%2fauth%2fdrive%20https%3a%2f%2fwww.googleapis.com%2fauth%2fdrive.photos.readonly%20https%3a%2f%2fwww.googleapis.com%2fauth%2fpeopleapi.readonly\n",
      "\n",
      "Enter your authorization code:\n",
      "··········\n",
      "Mounted at /content/drive\n"
     ]
    }
   ],
   "source": [
    "from google.colab import drive\n",
    "drive.mount('/content/drive')"
   ]
  },
  {
   "cell_type": "markdown",
   "metadata": {
    "colab_type": "text",
    "id": "Au2qBmio2NjE"
   },
   "source": [
    "# **Data Loading**"
   ]
  },
  {
   "cell_type": "code",
   "execution_count": 0,
   "metadata": {
    "colab": {},
    "colab_type": "code",
    "id": "9RgxNdECK00u"
   },
   "outputs": [],
   "source": [
    "import pandas as pd\n",
    "data = pd.read_csv(\"multi_hot_data_main.csv\")"
   ]
  },
  {
   "cell_type": "code",
   "execution_count": 0,
   "metadata": {
    "colab": {},
    "colab_type": "code",
    "id": "y899n8fyLflz"
   },
   "outputs": [],
   "source": [
    "data[\"len\"] = data[\"para\"].str.split().str.len()"
   ]
  },
  {
   "cell_type": "code",
   "execution_count": 3,
   "metadata": {
    "colab": {
     "base_uri": "https://localhost:8080/",
     "height": 35
    },
    "colab_type": "code",
    "id": "kZ_29rjALOXP",
    "outputId": "d58ef38b-22aa-408c-c0ca-7a347de1bc25"
   },
   "outputs": [
    {
     "data": {
      "text/plain": [
       "(25000, 29)"
      ]
     },
     "execution_count": 3,
     "metadata": {
      "tags": []
     },
     "output_type": "execute_result"
    }
   ],
   "source": [
    "data.shape"
   ]
  },
  {
   "cell_type": "code",
   "execution_count": 4,
   "metadata": {
    "colab": {
     "base_uri": "https://localhost:8080/",
     "height": 35
    },
    "colab_type": "code",
    "id": "Jk9_n1UNMSn5",
    "outputId": "ae6ae293-dac0-460e-9923-70495924e3be"
   },
   "outputs": [
    {
     "data": {
      "text/plain": [
       "6192"
      ]
     },
     "execution_count": 4,
     "metadata": {
      "tags": []
     },
     "output_type": "execute_result"
    }
   ],
   "source": [
    "data[\"len\"].max()"
   ]
  },
  {
   "cell_type": "code",
   "execution_count": 5,
   "metadata": {
    "colab": {
     "base_uri": "https://localhost:8080/",
     "height": 35
    },
    "colab_type": "code",
    "id": "u39TW2MlMbP4",
    "outputId": "73336083-af1b-4901-9da7-4056443a1dd6"
   },
   "outputs": [
    {
     "data": {
      "text/plain": [
       "0"
      ]
     },
     "execution_count": 5,
     "metadata": {
      "tags": []
     },
     "output_type": "execute_result"
    }
   ],
   "source": [
    "data[\"len\"].min()"
   ]
  },
  {
   "cell_type": "code",
   "execution_count": 0,
   "metadata": {
    "colab": {},
    "colab_type": "code",
    "id": "SqsISpuUnhF5"
   },
   "outputs": [],
   "source": [
    "sample = data[(data['len'] >= 10) & (data['len'] <=1000)]"
   ]
  },
  {
   "cell_type": "code",
   "execution_count": 7,
   "metadata": {
    "colab": {
     "base_uri": "https://localhost:8080/",
     "height": 556
    },
    "colab_type": "code",
    "id": "5PgYEy1FqDda",
    "outputId": "8e6861a8-ac5e-496e-a90e-3fa8646f2e77"
   },
   "outputs": [
    {
     "data": {
      "text/html": [
       "<div>\n",
       "<style scoped>\n",
       "    .dataframe tbody tr th:only-of-type {\n",
       "        vertical-align: middle;\n",
       "    }\n",
       "\n",
       "    .dataframe tbody tr th {\n",
       "        vertical-align: top;\n",
       "    }\n",
       "\n",
       "    .dataframe thead th {\n",
       "        text-align: right;\n",
       "    }\n",
       "</style>\n",
       "<table border=\"1\" class=\"dataframe\">\n",
       "  <thead>\n",
       "    <tr style=\"text-align: right;\">\n",
       "      <th></th>\n",
       "      <th>persons covered treaty eligibility</th>\n",
       "      <th>pe</th>\n",
       "      <th>business profits</th>\n",
       "      <th>shipping air transport</th>\n",
       "      <th>interest</th>\n",
       "      <th>royalty</th>\n",
       "      <th>royaltyfts</th>\n",
       "      <th>fts</th>\n",
       "      <th>independent personal services</th>\n",
       "      <th>dividend</th>\n",
       "      <th>capital gains</th>\n",
       "      <th>other treaty issues</th>\n",
       "      <th>gaar</th>\n",
       "      <th>income not includible in total income</th>\n",
       "      <th>profits gains from business profession</th>\n",
       "      <th>other sources</th>\n",
       "      <th>unexplained income</th>\n",
       "      <th>chapter via deductions</th>\n",
       "      <th>minimum alternate tax</th>\n",
       "      <th>prosecution</th>\n",
       "      <th>interest (interest on income tax refund)</th>\n",
       "      <th>carry forward of losses</th>\n",
       "      <th>penalty</th>\n",
       "      <th>dispute resolution</th>\n",
       "      <th>section 9</th>\n",
       "      <th>refund processing section 143(1d)</th>\n",
       "      <th>dividend distribution tax</th>\n",
       "      <th>para</th>\n",
       "      <th>len</th>\n",
       "    </tr>\n",
       "  </thead>\n",
       "  <tbody>\n",
       "    <tr>\n",
       "      <th>0</th>\n",
       "      <td>0</td>\n",
       "      <td>0</td>\n",
       "      <td>0</td>\n",
       "      <td>0</td>\n",
       "      <td>0</td>\n",
       "      <td>0</td>\n",
       "      <td>0</td>\n",
       "      <td>0</td>\n",
       "      <td>0</td>\n",
       "      <td>0</td>\n",
       "      <td>0</td>\n",
       "      <td>0</td>\n",
       "      <td>0</td>\n",
       "      <td>0</td>\n",
       "      <td>0</td>\n",
       "      <td>0</td>\n",
       "      <td>0</td>\n",
       "      <td>0</td>\n",
       "      <td>0</td>\n",
       "      <td>0</td>\n",
       "      <td>0</td>\n",
       "      <td>1</td>\n",
       "      <td>0</td>\n",
       "      <td>0</td>\n",
       "      <td>0</td>\n",
       "      <td>0</td>\n",
       "      <td>0</td>\n",
       "      <td>consequently the forex loss was allowed as cla...</td>\n",
       "      <td>29</td>\n",
       "    </tr>\n",
       "    <tr>\n",
       "      <th>1</th>\n",
       "      <td>0</td>\n",
       "      <td>0</td>\n",
       "      <td>0</td>\n",
       "      <td>0</td>\n",
       "      <td>0</td>\n",
       "      <td>0</td>\n",
       "      <td>0</td>\n",
       "      <td>0</td>\n",
       "      <td>0</td>\n",
       "      <td>0</td>\n",
       "      <td>0</td>\n",
       "      <td>0</td>\n",
       "      <td>0</td>\n",
       "      <td>0</td>\n",
       "      <td>0</td>\n",
       "      <td>0</td>\n",
       "      <td>0</td>\n",
       "      <td>0</td>\n",
       "      <td>0</td>\n",
       "      <td>0</td>\n",
       "      <td>0</td>\n",
       "      <td>0</td>\n",
       "      <td>0</td>\n",
       "      <td>0</td>\n",
       "      <td>0</td>\n",
       "      <td>0</td>\n",
       "      <td>0</td>\n",
       "      <td>there is no document whatsoever to show that t...</td>\n",
       "      <td>65</td>\n",
       "    </tr>\n",
       "    <tr>\n",
       "      <th>2</th>\n",
       "      <td>0</td>\n",
       "      <td>0</td>\n",
       "      <td>0</td>\n",
       "      <td>0</td>\n",
       "      <td>0</td>\n",
       "      <td>0</td>\n",
       "      <td>0</td>\n",
       "      <td>0</td>\n",
       "      <td>0</td>\n",
       "      <td>0</td>\n",
       "      <td>0</td>\n",
       "      <td>0</td>\n",
       "      <td>0</td>\n",
       "      <td>0</td>\n",
       "      <td>0</td>\n",
       "      <td>0</td>\n",
       "      <td>0</td>\n",
       "      <td>0</td>\n",
       "      <td>0</td>\n",
       "      <td>0</td>\n",
       "      <td>0</td>\n",
       "      <td>0</td>\n",
       "      <td>0</td>\n",
       "      <td>0</td>\n",
       "      <td>0</td>\n",
       "      <td>0</td>\n",
       "      <td>0</td>\n",
       "      <td>3 the ld cit(a) has erred in law and on facts...</td>\n",
       "      <td>32</td>\n",
       "    </tr>\n",
       "    <tr>\n",
       "      <th>3</th>\n",
       "      <td>0</td>\n",
       "      <td>0</td>\n",
       "      <td>0</td>\n",
       "      <td>0</td>\n",
       "      <td>0</td>\n",
       "      <td>0</td>\n",
       "      <td>0</td>\n",
       "      <td>0</td>\n",
       "      <td>0</td>\n",
       "      <td>0</td>\n",
       "      <td>0</td>\n",
       "      <td>0</td>\n",
       "      <td>0</td>\n",
       "      <td>0</td>\n",
       "      <td>0</td>\n",
       "      <td>0</td>\n",
       "      <td>0</td>\n",
       "      <td>0</td>\n",
       "      <td>0</td>\n",
       "      <td>0</td>\n",
       "      <td>0</td>\n",
       "      <td>0</td>\n",
       "      <td>0</td>\n",
       "      <td>0</td>\n",
       "      <td>0</td>\n",
       "      <td>0</td>\n",
       "      <td>0</td>\n",
       "      <td>4 af ter hearing the learned representatives ...</td>\n",
       "      <td>63</td>\n",
       "    </tr>\n",
       "    <tr>\n",
       "      <th>4</th>\n",
       "      <td>0</td>\n",
       "      <td>0</td>\n",
       "      <td>0</td>\n",
       "      <td>0</td>\n",
       "      <td>0</td>\n",
       "      <td>0</td>\n",
       "      <td>0</td>\n",
       "      <td>0</td>\n",
       "      <td>0</td>\n",
       "      <td>0</td>\n",
       "      <td>1</td>\n",
       "      <td>0</td>\n",
       "      <td>0</td>\n",
       "      <td>0</td>\n",
       "      <td>1</td>\n",
       "      <td>1</td>\n",
       "      <td>0</td>\n",
       "      <td>0</td>\n",
       "      <td>0</td>\n",
       "      <td>0</td>\n",
       "      <td>0</td>\n",
       "      <td>0</td>\n",
       "      <td>0</td>\n",
       "      <td>0</td>\n",
       "      <td>0</td>\n",
       "      <td>1</td>\n",
       "      <td>1</td>\n",
       "      <td>8 section 36 (1)(iii) of the income tax act 1...</td>\n",
       "      <td>202</td>\n",
       "    </tr>\n",
       "  </tbody>\n",
       "</table>\n",
       "</div>"
      ],
      "text/plain": [
       "   persons covered treaty eligibility  ...  len\n",
       "0                                   0  ...   29\n",
       "1                                   0  ...   65\n",
       "2                                   0  ...   32\n",
       "3                                   0  ...   63\n",
       "4                                   0  ...  202\n",
       "\n",
       "[5 rows x 29 columns]"
      ]
     },
     "execution_count": 7,
     "metadata": {
      "tags": []
     },
     "output_type": "execute_result"
    }
   ],
   "source": [
    "sample.head()"
   ]
  },
  {
   "cell_type": "code",
   "execution_count": 6,
   "metadata": {
    "colab": {
     "base_uri": "https://localhost:8080/",
     "height": 35
    },
    "colab_type": "code",
    "id": "_WMGWIlvqG8T",
    "outputId": "7b280fa2-d5a8-47d7-89f9-dd99bbbe928f"
   },
   "outputs": [
    {
     "data": {
      "text/plain": [
       "(24664, 29)"
      ]
     },
     "execution_count": 6,
     "metadata": {
      "tags": []
     },
     "output_type": "execute_result"
    }
   ],
   "source": [
    "sample.shape"
   ]
  },
  {
   "cell_type": "markdown",
   "metadata": {
    "colab_type": "text",
    "id": "M8e9GAdQ2bOB"
   },
   "source": [
    "# **Importing Relevant Dependencies**"
   ]
  },
  {
   "cell_type": "code",
   "execution_count": 0,
   "metadata": {
    "colab": {},
    "colab_type": "code",
    "id": "eh8g-Lay2fBA"
   },
   "outputs": [],
   "source": [
    "import numpy as np\n",
    "import matplotlib.pyplot as plt\n",
    "import seaborn as sns\n",
    "from keras.models import Model, load_model \n",
    "from keras.layers import LSTM, Bidirectional, GlobalMaxPool1D, Dropout, Conv1D,Dense, Embedding, Input, GRU, GlobalAveragePooling1D, GlobalMaxPooling1D, concatenate\n",
    "from keras.preprocessing.sequence import pad_sequences\n",
    "from keras.preprocessing.text import Tokenizer\n",
    "from keras.optimizers import Adam, RMSprop\n",
    "from keras.callbacks import TensorBoard, ModelCheckpoint, EarlyStopping\n",
    "from sklearn import metrics\n",
    "from sklearn.model_selection import train_test_split"
   ]
  },
  {
   "cell_type": "markdown",
   "metadata": {
    "colab_type": "text",
    "id": "QR0MpnHd3Y1B"
   },
   "source": [
    "# **Splitting Data**"
   ]
  },
  {
   "cell_type": "code",
   "execution_count": 0,
   "metadata": {
    "colab": {},
    "colab_type": "code",
    "id": "8yBe3AyJ3Rhq"
   },
   "outputs": [],
   "source": [
    "train, test = train_test_split(sample,test_size=0.2,random_state=123)"
   ]
  },
  {
   "cell_type": "code",
   "execution_count": 10,
   "metadata": {
    "colab": {
     "base_uri": "https://localhost:8080/",
     "height": 54
    },
    "colab_type": "code",
    "id": "Q6bC9Lje3dxJ",
    "outputId": "14f075f0-562f-4c16-9259-cdbaa470be7c"
   },
   "outputs": [
    {
     "name": "stdout",
     "output_type": "stream",
     "text": [
      "(19731, 29)\n",
      "(4933, 29)\n"
     ]
    }
   ],
   "source": [
    "print(train.shape)\n",
    "print(test.shape)"
   ]
  },
  {
   "cell_type": "code",
   "execution_count": 0,
   "metadata": {
    "colab": {},
    "colab_type": "code",
    "id": "5bhjm1Er3iRT"
   },
   "outputs": [],
   "source": [
    "features_train = train.iloc[:,-2]\n",
    "features_test = test.iloc[:,-2]"
   ]
  },
  {
   "cell_type": "code",
   "execution_count": 11,
   "metadata": {
    "colab": {
     "base_uri": "https://localhost:8080/",
     "height": 237
    },
    "colab_type": "code",
    "id": "g09Sx6k03xp2",
    "outputId": "c06d357a-3e13-443b-b043-000a40b81fef"
   },
   "outputs": [
    {
     "data": {
      "text/plain": [
       "3310     6 for the proposition that on a mere differenc...\n",
       "5553     11 the learned cit (dr) countering the submiss...\n",
       "9363     4 on query by the bench assessee has filed rec...\n",
       "1382      18 in substance the contention of the learned...\n",
       "5528     13 the next gift deed available on pages 50 an...\n",
       "                               ...                        \n",
       "15590     32 sec 18 of the indian partnership act runs ...\n",
       "21899    4 learned counsel for the appellant submits th...\n",
       "17976     18 on these facts the question posed before t...\n",
       "15944    5 now we take the appeals filed by the assesse...\n",
       "20242     13 he pointed out that the ito referred to th...\n",
       "Name: para, Length: 19731, dtype: object"
      ]
     },
     "execution_count": 11,
     "metadata": {
      "tags": []
     },
     "output_type": "execute_result"
    }
   ],
   "source": [
    "features_train"
   ]
  },
  {
   "cell_type": "code",
   "execution_count": 0,
   "metadata": {
    "colab": {},
    "colab_type": "code",
    "id": "-4T9Nesd30fJ"
   },
   "outputs": [],
   "source": [
    "y_train = train.iloc[:,1:-2].values\n",
    "y_test = test.iloc[:,1:-2].values"
   ]
  },
  {
   "cell_type": "code",
   "execution_count": 13,
   "metadata": {
    "colab": {
     "base_uri": "https://localhost:8080/",
     "height": 35
    },
    "colab_type": "code",
    "id": "qSFzVySk_5L0",
    "outputId": "76c4128f-a5f6-46a8-8c25-018758eb2be7"
   },
   "outputs": [
    {
     "data": {
      "text/plain": [
       "(19731, 26)"
      ]
     },
     "execution_count": 13,
     "metadata": {
      "tags": []
     },
     "output_type": "execute_result"
    }
   ],
   "source": [
    "y_train.shape"
   ]
  },
  {
   "cell_type": "markdown",
   "metadata": {
    "colab_type": "text",
    "id": "4csItpD2AGb-"
   },
   "source": [
    "# **Data Preparation**"
   ]
  },
  {
   "cell_type": "code",
   "execution_count": 16,
   "metadata": {
    "colab": {
     "base_uri": "https://localhost:8080/",
     "height": 54
    },
    "colab_type": "code",
    "id": "l2P7eYnt_7sp",
    "outputId": "ff335bbc-585c-4551-83ad-36abd473d04b"
   },
   "outputs": [
    {
     "name": "stdout",
     "output_type": "stream",
     "text": [
      "Loading word vectors...\n",
      "Found 1917494 word vectors.\n"
     ]
    }
   ],
   "source": [
    "# load in pre-trained word vectors\n",
    "print('Loading word vectors...')\n",
    "word2vec = {}\n",
    "with open(\"drive/My Drive/ content glove glove.42B.300d.txt\") as f:\n",
    "  # is just a space-separated text file in the format:\n",
    "  # word vec[0] vec[1] vec[2] ...\n",
    "  for line in f:\n",
    "    values = line.split()\n",
    "    word = values[0]\n",
    "    vec = np.asarray(values[1:], dtype='float32')\n",
    "    word2vec[word] = vec\n",
    "print('Found %s word vectors.' % len(word2vec))\n"
   ]
  },
  {
   "cell_type": "code",
   "execution_count": 0,
   "metadata": {
    "colab": {},
    "colab_type": "code",
    "id": "QJrJv9hJAfRN"
   },
   "outputs": [],
   "source": [
    "MAX_VOCAB_SIZE = 20000\n",
    "EMBEDDING_DIM = 300"
   ]
  },
  {
   "cell_type": "code",
   "execution_count": 0,
   "metadata": {
    "colab": {},
    "colab_type": "code",
    "id": "YGmAZKuzAglh"
   },
   "outputs": [],
   "source": [
    "# convert the sentences (strings) into integers\n",
    "tokenizer = Tokenizer(num_words=MAX_VOCAB_SIZE)\n",
    "tokenizer.fit_on_texts(features_train)\n",
    "sequences_train = tokenizer.texts_to_sequences(features_train)\n",
    "sequences_test = tokenizer.texts_to_sequences(features_test)"
   ]
  },
  {
   "cell_type": "code",
   "execution_count": 21,
   "metadata": {
    "colab": {
     "base_uri": "https://localhost:8080/",
     "height": 35
    },
    "colab_type": "code",
    "id": "U1o5byEFBLCI",
    "outputId": "b1982f5d-8bd8-4234-c3c5-d59918b8a59f"
   },
   "outputs": [
    {
     "name": "stdout",
     "output_type": "stream",
     "text": [
      "Found 105026 unique tokens.\n"
     ]
    }
   ],
   "source": [
    "# get word -> integer mapping\n",
    "word2idx = tokenizer.word_index\n",
    "print('Found %s unique tokens.' % len(word2idx))"
   ]
  },
  {
   "cell_type": "code",
   "execution_count": 0,
   "metadata": {
    "colab": {},
    "colab_type": "code",
    "id": "ojXvHWefBPI0"
   },
   "outputs": [],
   "source": [
    "length = []\n",
    "\n",
    "for i in sequences_train:\n",
    "\n",
    "  length.append(len(i))"
   ]
  },
  {
   "cell_type": "code",
   "execution_count": 23,
   "metadata": {
    "colab": {
     "base_uri": "https://localhost:8080/",
     "height": 286
    },
    "colab_type": "code",
    "id": "SbEpHAzEBSmo",
    "outputId": "51c2e5e4-68a6-4ec4-9f0f-541b424127d8"
   },
   "outputs": [
    {
     "data": {
      "text/plain": [
       "<matplotlib.axes._subplots.AxesSubplot at 0x7f4566dbebe0>"
      ]
     },
     "execution_count": 23,
     "metadata": {
      "tags": []
     },
     "output_type": "execute_result"
    },
    {
     "data": {
      "image/png": "[encoded data removed]",
      "text/plain": [
       "<Figure size 432x288 with 1 Axes>"
      ]
     },
     "metadata": {
      "tags": []
     },
     "output_type": "display_data"
    }
   ],
   "source": [
    "sns.set()\n",
    "sns.distplot(length)"
   ]
  },
  {
   "cell_type": "code",
   "execution_count": 0,
   "metadata": {
    "colab": {},
    "colab_type": "code",
    "id": "9XCi1JXoBUy8"
   },
   "outputs": [],
   "source": [
    "MAX_SEQUENCE_LENGTH = 200"
   ]
  },
  {
   "cell_type": "code",
   "execution_count": 25,
   "metadata": {
    "colab": {
     "base_uri": "https://localhost:8080/",
     "height": 54
    },
    "colab_type": "code",
    "id": "HLx43y9rBZaR",
    "outputId": "52610356-31ee-4ea8-e2b3-0ac6588ca277"
   },
   "outputs": [
    {
     "name": "stdout",
     "output_type": "stream",
     "text": [
      "Shape of data tensor: (19731, 200)\n",
      "Shape of data tensor: (4933, 200)\n"
     ]
    }
   ],
   "source": [
    "encoded_train = pad_sequences(sequences_train,maxlen=MAX_SEQUENCE_LENGTH)\n",
    "print('Shape of data tensor:', encoded_train.shape)\n",
    "encoded_test = pad_sequences(sequences_test, maxlen=MAX_SEQUENCE_LENGTH)\n",
    "print('Shape of data tensor:', encoded_test.shape)"
   ]
  },
  {
   "cell_type": "code",
   "execution_count": 27,
   "metadata": {
    "colab": {
     "base_uri": "https://localhost:8080/",
     "height": 54
    },
    "colab_type": "code",
    "id": "a29Q4RBtBdZ_",
    "outputId": "914063b9-712d-47a9-d58f-29685bcbf892"
   },
   "outputs": [
    {
     "name": "stdout",
     "output_type": "stream",
     "text": [
      "Filling pre-trained embeddings...\n",
      "(20000, 300)\n"
     ]
    }
   ],
   "source": [
    "# prepare embedding matrix\n",
    "print('Filling pre-trained embeddings...')\n",
    "num_words = min(MAX_VOCAB_SIZE, len(word2idx) + 1)\n",
    "embedding_matrix = np.zeros((num_words, EMBEDDING_DIM))\n",
    "for word, i in word2idx.items():\n",
    "  if i < MAX_VOCAB_SIZE:\n",
    "    embedding_vector = word2vec.get(word)\n",
    "    if embedding_vector is not None:\n",
    "      # words not found in embedding index will be all zeros.\n",
    "        embedding_matrix[i] = embedding_vector\n",
    "\n",
    "print(embedding_matrix.shape)"
   ]
  },
  {
   "cell_type": "markdown",
   "metadata": {
    "colab_type": "text",
    "id": "xQMfwfx8KH1O"
   },
   "source": [
    "# **Model Building**"
   ]
  },
  {
   "cell_type": "code",
   "execution_count": 30,
   "metadata": {
    "colab": {
     "base_uri": "https://localhost:8080/",
     "height": 495
    },
    "colab_type": "code",
    "id": "QKOCNEMiHzbA",
    "outputId": "cef716bd-2db7-4f33-a9db-26ed2eb059dc"
   },
   "outputs": [
    {
     "name": "stdout",
     "output_type": "stream",
     "text": [
      "Building model...\n",
      "Model: \"model_2\"\n",
      "__________________________________________________________________________________________________\n",
      "Layer (type)                    Output Shape         Param #     Connected to                     \n",
      "==================================================================================================\n",
      "input_3 (InputLayer)            (None, 200)          0                                            \n",
      "__________________________________________________________________________________________________\n",
      "embedding_3 (Embedding)         (None, 200, 300)     6000000     input_3[0][0]                    \n",
      "__________________________________________________________________________________________________\n",
      "bidirectional_3 (Bidirectional) (None, 200, 256)     329472      embedding_3[0][0]                \n",
      "__________________________________________________________________________________________________\n",
      "conv1d_2 (Conv1D)               (None, 198, 64)      49216       bidirectional_3[0][0]            \n",
      "__________________________________________________________________________________________________\n",
      "global_average_pooling1d_2 (Glo (None, 64)           0           conv1d_2[0][0]                   \n",
      "__________________________________________________________________________________________________\n",
      "global_max_pooling1d_2 (GlobalM (None, 64)           0           conv1d_2[0][0]                   \n",
      "__________________________________________________________________________________________________\n",
      "concatenate_2 (Concatenate)     (None, 128)          0           global_average_pooling1d_2[0][0] \n",
      "                                                                 global_max_pooling1d_2[0][0]     \n",
      "__________________________________________________________________________________________________\n",
      "dense_2 (Dense)                 (None, 26)           3354        concatenate_2[0][0]              \n",
      "==================================================================================================\n",
      "Total params: 6,382,042\n",
      "Trainable params: 382,042\n",
      "Non-trainable params: 6,000,000\n",
      "__________________________________________________________________________________________________\n"
     ]
    }
   ],
   "source": [
    "embedding_layer = Embedding(\n",
    "  num_words,\n",
    "  EMBEDDING_DIM,\n",
    "  weights=[embedding_matrix],\n",
    "  input_length=MAX_SEQUENCE_LENGTH,\n",
    "  trainable=False\n",
    ")\n",
    "\n",
    "\n",
    "\n",
    "print('Building model...')\n",
    "\n",
    "# create an LSTM network with a single LSTM\n",
    "input_ = Input(shape=(MAX_SEQUENCE_LENGTH,))\n",
    "x = embedding_layer(input_)\n",
    "x = Bidirectional(GRU(128, return_sequences=True, dropout=0.1,\n",
    "                                                      recurrent_dropout=0.1))(x)\n",
    " \n",
    "x = Conv1D(64, kernel_size=3, padding=\"valid\", kernel_initializer=\"glorot_uniform\")(x)\n",
    " \n",
    "avg_pool = GlobalAveragePooling1D()(x)\n",
    "max_pool = GlobalMaxPooling1D()(x)\n",
    " \n",
    "x = concatenate([avg_pool, max_pool])\n",
    " \n",
    "preds = Dense(26, activation=\"sigmoid\")(x)\n",
    " \n",
    "model = Model(input_, preds)\n",
    " \n",
    "model.summary()\n",
    " \n",
    "model.compile(loss='binary_crossentropy', optimizer=Adam(lr=1e-3), metrics=['accuracy'])"
   ]
  },
  {
   "cell_type": "code",
   "execution_count": 0,
   "metadata": {
    "colab": {},
    "colab_type": "code",
    "id": "0--txnXrMPsv"
   },
   "outputs": [],
   "source": [
    "# Callbacks\n",
    "model_3 = ModelCheckpoint('model_bilstm_multilabel_2.h5', save_best_only=True, monitor='val_loss', mode='min')\n",
    "logdir = \"logs/model_bilstm_multilabel/\"\n",
    "tensorboard_callback = TensorBoard(log_dir=logdir)"
   ]
  },
  {
   "cell_type": "code",
   "execution_count": 33,
   "metadata": {
    "colab": {
     "base_uri": "https://localhost:8080/",
     "height": 680
    },
    "colab_type": "code",
    "id": "3rUR1nSLLPdM",
    "outputId": "30f7ed95-459c-46ea-adc0-7c58b5912fc7"
   },
   "outputs": [
    {
     "name": "stdout",
     "output_type": "stream",
     "text": [
      "Training model...\n",
      "WARNING:tensorflow:From /usr/local/lib/python3.6/dist-packages/keras/backend/tensorflow_backend.py:1033: The name tf.assign_add is deprecated. Please use tf.compat.v1.assign_add instead.\n",
      "\n",
      "WARNING:tensorflow:From /usr/local/lib/python3.6/dist-packages/keras/backend/tensorflow_backend.py:1020: The name tf.assign is deprecated. Please use tf.compat.v1.assign instead.\n",
      "\n",
      "Train on 19731 samples, validate on 4933 samples\n",
      "WARNING:tensorflow:From /usr/local/lib/python3.6/dist-packages/keras/callbacks.py:1122: The name tf.summary.merge_all is deprecated. Please use tf.compat.v1.summary.merge_all instead.\n",
      "\n",
      "WARNING:tensorflow:From /usr/local/lib/python3.6/dist-packages/keras/callbacks.py:1125: The name tf.summary.FileWriter is deprecated. Please use tf.compat.v1.summary.FileWriter instead.\n",
      "\n",
      "WARNING:tensorflow:Issue encountered when serializing while_context.\n",
      "Type is unsupported, or the types of the items don't match field type in CollectionDef. Note this is a warning and probably safe to ignore.\n",
      "'NoneType' object has no attribute 'name'\n",
      "Epoch 1/10\n",
      "19731/19731 [==============================] - 42s 2ms/step - loss: 0.2489 - acc: 0.9019 - val_loss: 0.1794 - val_acc: 0.9238\n",
      "WARNING:tensorflow:From /usr/local/lib/python3.6/dist-packages/keras/callbacks.py:1265: The name tf.Summary is deprecated. Please use tf.compat.v1.Summary instead.\n",
      "\n",
      "Epoch 2/10\n",
      "19731/19731 [==============================] - 36s 2ms/step - loss: 0.1732 - acc: 0.9284 - val_loss: 0.1722 - val_acc: 0.9282\n",
      "Epoch 3/10\n",
      "19731/19731 [==============================] - 36s 2ms/step - loss: 0.1657 - acc: 0.9311 - val_loss: 0.1642 - val_acc: 0.9312\n",
      "Epoch 4/10\n",
      "19731/19731 [==============================] - 36s 2ms/step - loss: 0.1566 - acc: 0.9346 - val_loss: 0.1535 - val_acc: 0.9357\n",
      "Epoch 5/10\n",
      "19731/19731 [==============================] - 36s 2ms/step - loss: 0.1460 - acc: 0.9398 - val_loss: 0.1431 - val_acc: 0.9415\n",
      "Epoch 6/10\n",
      "19731/19731 [==============================] - 36s 2ms/step - loss: 0.1353 - acc: 0.9456 - val_loss: 0.1334 - val_acc: 0.9469\n",
      "Epoch 7/10\n",
      "19731/19731 [==============================] - 36s 2ms/step - loss: 0.1269 - acc: 0.9496 - val_loss: 0.1265 - val_acc: 0.9503\n",
      "Epoch 8/10\n",
      "19731/19731 [==============================] - 36s 2ms/step - loss: 0.1215 - acc: 0.9519 - val_loss: 0.1231 - val_acc: 0.9513\n",
      "Epoch 9/10\n",
      "19731/19731 [==============================] - 36s 2ms/step - loss: 0.1155 - acc: 0.9543 - val_loss: 0.1164 - val_acc: 0.9545\n",
      "Epoch 10/10\n",
      "19731/19731 [==============================] - 36s 2ms/step - loss: 0.1103 - acc: 0.9568 - val_loss: 0.1135 - val_acc: 0.9556\n"
     ]
    }
   ],
   "source": [
    "print('Training model...')\n",
    "r = model.fit(\n",
    "  encoded_train,\n",
    "  y_train,\n",
    "  batch_size=512,\n",
    "  epochs=10,\n",
    "  validation_data=(encoded_test,y_test),callbacks=[tensorboard_callback,model_3]\n",
    ")"
   ]
  },
  {
   "cell_type": "markdown",
   "metadata": {
    "colab_type": "text",
    "id": "s4fcMnc1hJ63"
   },
   "source": [
    "# **Results Analysis**"
   ]
  },
  {
   "cell_type": "code",
   "execution_count": 0,
   "metadata": {
    "colab": {},
    "colab_type": "code",
    "id": "yzVYNyfmLrCo"
   },
   "outputs": [],
   "source": [
    "predictions_3 = model.predict(encoded_test)"
   ]
  },
  {
   "cell_type": "code",
   "execution_count": 36,
   "metadata": {
    "colab": {
     "base_uri": "https://localhost:8080/",
     "height": 586
    },
    "colab_type": "code",
    "id": "pLnszAgeURkW",
    "outputId": "e932c1cf-bced-4cad-e45c-c154800ac468"
   },
   "outputs": [
    {
     "name": "stdout",
     "output_type": "stream",
     "text": [
      "F1 score at threshold 0.3 is 0.6520915318466697\n",
      "F1 score at threshold 0.31 is 0.653190020708017\n",
      "F1 score at threshold 0.32 is 0.6558016297555366\n",
      "F1 score at threshold 0.33 is 0.6572370088719898\n",
      "F1 score at threshold 0.34 is 0.6576243321002877\n",
      "F1 score at threshold 0.35 is 0.658753709198813\n",
      "F1 score at threshold 0.36 is 0.6593835761030188\n",
      "F1 score at threshold 0.37 is 0.6606770415530242\n",
      "F1 score at threshold 0.38 is 0.6610380473020512\n",
      "F1 score at threshold 0.39 is 0.6601389420710027\n",
      "F1 score at threshold 0.4 is 0.659727604916399\n",
      "F1 score at threshold 0.41 is 0.6593468153044648\n",
      "F1 score at threshold 0.42 is 0.6584427342689\n",
      "F1 score at threshold 0.43 is 0.6577935861396361\n",
      "F1 score at threshold 0.44 is 0.6583966146890036\n",
      "F1 score at threshold 0.45 is 0.65760965040698\n",
      "F1 score at threshold 0.46 is 0.6570785984848485\n",
      "F1 score at threshold 0.47 is 0.6544390010753972\n",
      "F1 score at threshold 0.48 is 0.6526493867440034\n",
      "F1 score at threshold 0.49 is 0.6509981075636407\n",
      "F1 score at threshold 0.5 is 0.6489617351654445\n",
      "F1 score at threshold 0.51 is 0.6469307792773182\n",
      "F1 score at threshold 0.52 is 0.6435513198319643\n",
      "F1 score at threshold 0.53 is 0.6416382252559727\n",
      "F1 score at threshold 0.54 is 0.6385580536271575\n",
      "F1 score at threshold 0.55 is 0.6340053936047259\n",
      "F1 score at threshold 0.56 is 0.63059097676225\n",
      "F1 score at threshold 0.57 is 0.6289996741609645\n",
      "F1 score at threshold 0.58 is 0.6260082628369074\n",
      "F1 score at threshold 0.59 is 0.6218054546655222\n",
      "F1 score at threshold 0.6 is 0.6180126287803257\n"
     ]
    }
   ],
   "source": [
    "for thresh in np.arange(0.3, 0.601, 0.01):\n",
    "    thresh = np.round(thresh, 2)\n",
    "    print(\"F1 score at threshold {0} is {1}\".format(thresh, metrics.f1_score(y_test, (predictions_3>thresh).astype(int),average=\"micro\")))"
   ]
  },
  {
   "cell_type": "code",
   "execution_count": 38,
   "metadata": {
    "colab": {
     "base_uri": "https://localhost:8080/",
     "height": 586
    },
    "colab_type": "code",
    "id": "z2u3CWTqgnnD",
    "outputId": "77f87701-1781-49fe-9c8b-e501581d53e0"
   },
   "outputs": [
    {
     "name": "stdout",
     "output_type": "stream",
     "text": [
      "Precision score at threshold 0.6 is 0.8443516164184526\n",
      "Precision score at threshold 0.61 is 0.8487426035502958\n",
      "Precision score at threshold 0.62 is 0.8536447541909964\n",
      "Precision score at threshold 0.63 is 0.8574990410433448\n",
      "Precision score at threshold 0.64 is 0.8623655913978494\n",
      "Precision score at threshold 0.65 is 0.8678906405907004\n",
      "Precision score at threshold 0.66 is 0.8712306438467807\n",
      "Precision score at threshold 0.67 is 0.8740679370339686\n",
      "Precision score at threshold 0.68 is 0.8773226351351351\n",
      "Precision score at threshold 0.69 is 0.8811987925830099\n",
      "Precision score at threshold 0.7 is 0.8868007959319036\n",
      "Precision score at threshold 0.71 is 0.8904697380307136\n",
      "Precision score at threshold 0.72 is 0.8955361251725725\n",
      "Precision score at threshold 0.73 is 0.8991063029162747\n",
      "Precision score at threshold 0.74 is 0.9025444071051368\n",
      "Precision score at threshold 0.75 is 0.9096948818897638\n",
      "Precision score at threshold 0.76 is 0.9123958596314062\n",
      "Precision score at threshold 0.77 is 0.9159120310478654\n",
      "Precision score at threshold 0.78 is 0.9215162840363054\n",
      "Precision score at threshold 0.79 is 0.9264223194748359\n",
      "Precision score at threshold 0.8 is 0.9310829817158931\n",
      "Precision score at threshold 0.81 is 0.9350536387358654\n",
      "Precision score at threshold 0.82 is 0.9377420315758117\n",
      "Precision score at threshold 0.83 is 0.9397664413030117\n",
      "Precision score at threshold 0.84 is 0.9432759719566602\n",
      "Precision score at threshold 0.85 is 0.9478203434610304\n",
      "Precision score at threshold 0.86 is 0.9518734960467514\n",
      "Precision score at threshold 0.87 is 0.9561938958707361\n",
      "Precision score at threshold 0.88 is 0.9593679458239278\n",
      "Precision score at threshold 0.89 is 0.9652311339391545\n",
      "Precision score at threshold 0.9 is 0.9701244813278008\n"
     ]
    }
   ],
   "source": [
    "for thresh in np.arange(0.6, 0.901, 0.01):\n",
    "    thresh = np.round(thresh, 2)\n",
    "    print(\"Precision score at threshold {0} is {1}\".format(thresh, metrics.precision_score(y_test, (predictions_3>thresh).astype(int),average=\"micro\")))"
   ]
  },
  {
   "cell_type": "code",
   "execution_count": 39,
   "metadata": {
    "colab": {
     "base_uri": "https://localhost:8080/",
     "height": 586
    },
    "colab_type": "code",
    "id": "Oa2y6R7XhVQE",
    "outputId": "4c773864-510e-428a-fdf4-de995ae723ec"
   },
   "outputs": [
    {
     "name": "stdout",
     "output_type": "stream",
     "text": [
      "Recall score at threshold 0.6 is 0.4873676486004822\n",
      "Recall score at threshold 0.61 is 0.4811825138903449\n",
      "Recall score at threshold 0.62 is 0.47510221197190483\n",
      "Recall score at threshold 0.63 is 0.468707411678373\n",
      "Recall score at threshold 0.64 is 0.4624174441765384\n",
      "Recall score at threshold 0.65 is 0.45591781109130936\n",
      "Recall score at threshold 0.66 is 0.44826501729741064\n",
      "Recall score at threshold 0.67 is 0.44239438096236505\n",
      "Recall score at threshold 0.68 is 0.4355802495020442\n",
      "Recall score at threshold 0.69 is 0.4284516196666317\n",
      "Recall score at threshold 0.7 is 0.42048432749764125\n",
      "Recall score at threshold 0.71 is 0.41335569766222874\n",
      "Recall score at threshold 0.72 is 0.40800922528566935\n",
      "Recall score at threshold 0.73 is 0.4007757626585596\n",
      "Recall score at threshold 0.74 is 0.3941712967816333\n",
      "Recall score at threshold 0.75 is 0.387566830904707\n",
      "Recall score at threshold 0.76 is 0.37886570919383583\n",
      "Recall score at threshold 0.77 is 0.37110808260823985\n",
      "Recall score at threshold 0.78 is 0.3618827969388825\n",
      "Recall score at threshold 0.79 is 0.3550686654785617\n",
      "Recall score at threshold 0.8 is 0.346996540517874\n",
      "Recall score at threshold 0.81 is 0.33808575322360834\n",
      "Recall score at threshold 0.82 is 0.33001362826292063\n",
      "Recall score at threshold 0.83 is 0.3205786770101688\n",
      "Recall score at threshold 0.84 is 0.31030506342383896\n",
      "Recall score at threshold 0.85 is 0.3008701121710871\n",
      "Recall score at threshold 0.86 is 0.2902820002096656\n",
      "Recall score at threshold 0.87 is 0.27916972428975784\n",
      "Recall score at threshold 0.88 is 0.2673236188279694\n",
      "Recall score at threshold 0.89 is 0.25610651011636437\n",
      "Recall score at threshold 0.9 is 0.2450990669881539\n"
     ]
    }
   ],
   "source": [
    "for thresh in np.arange(0.6, 0.901, 0.01):\n",
    "    thresh = np.round(thresh, 2)\n",
    "    print(\"Recall score at threshold {0} is {1}\".format(thresh, metrics.recall_score(y_test, (predictions_3>thresh).astype(int),average=\"micro\")))"
   ]
  },
  {
   "cell_type": "code",
   "execution_count": 0,
   "metadata": {
    "colab": {},
    "colab_type": "code",
    "id": "lxBemDp-hjml"
   },
   "outputs": [],
   "source": []
  }
 ],
 "metadata": {
  "accelerator": "GPU",
  "colab": {
   "collapsed_sections": [
    "Au2qBmio2NjE",
    "M8e9GAdQ2bOB",
    "QR0MpnHd3Y1B"
   ],
   "name": "Multi Label Bi-LSTM witn Conv1D 10 Dec 19.ipynb",
   "provenance": []
  },
  "kernelspec": {
   "display_name": "Python 3",
   "language": "python",
   "name": "python3"
  },
  "language_info": {
   "codemirror_mode": {
    "name": "ipython",
    "version": 3
   },
   "file_extension": ".py",
   "mimetype": "text/x-python",
   "name": "python",
   "nbconvert_exporter": "python",
   "pygments_lexer": "ipython3",
   "version": "3.6.8"
  }
 },
 "nbformat": 4,
 "nbformat_minor": 1
}
