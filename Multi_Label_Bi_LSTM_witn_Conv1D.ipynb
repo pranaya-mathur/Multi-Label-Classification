{
 "cells": [
  {
   "cell_type": "code",
   "execution_count": 15,
   "metadata": {
    "colab": {
     "base_uri": "https://localhost:8080/",
     "height": 129
    },
    "colab_type": "code",
    "id": "gxiaxtxdK-Yh",
    "outputId": "0e01c340-7af6-4752-c7bc-74dccab87e22"
   },
   "outputs": [
    {
     "name": "stdout",
     "output_type": "stream",
     "text": [
      "Go to this URL in a browser: https://accounts.google.com/o/oauth2/auth?client_id=947318989803-6bn6qk8qdgf4n4g3pfee6491hc0brc4i.apps.googleusercontent.com&redirect_uri=urn%3aietf%3awg%3aoauth%3a2.0%3aoob&response_type=code&scope=email%20https%3a%2f%2fwww.googleapis.com%2fauth%2fdocs.test%20https%3a%2f%2fwww.googleapis.com%2fauth%2fdrive%20https%3a%2f%2fwww.googleapis.com%2fauth%2fdrive.photos.readonly%20https%3a%2f%2fwww.googleapis.com%2fauth%2fpeopleapi.readonly\n",
      "\n",
      "Enter your authorization code:\n",
      "··········\n",
      "Mounted at /content/drive\n"
     ]
    }
   ],
   "source": [
    "from google.colab import drive\n",
    "drive.mount('/content/drive')"
   ]
  },
  {
   "cell_type": "markdown",
   "metadata": {
    "colab_type": "text",
    "id": "Au2qBmio2NjE"
   },
   "source": [
    "# **Data Loading**"
   ]
  },
  {
   "cell_type": "code",
   "execution_count": 0,
   "metadata": {
    "colab": {},
    "colab_type": "code",
    "id": "9RgxNdECK00u"
   },
   "outputs": [],
   "source": [
    "import pandas as pd\n",
    "data = pd.read_csv(\"multi_hot_data_main.csv\")"
   ]
  },
  {
   "cell_type": "code",
   "execution_count": 0,
   "metadata": {
    "colab": {},
    "colab_type": "code",
    "id": "y899n8fyLflz"
   },
   "outputs": [],
   "source": [
    "data[\"len\"] = data[\"para\"].str.split().str.len()"
   ]
  },
  {
   "cell_type": "code",
   "execution_count": 3,
   "metadata": {
    "colab": {
     "base_uri": "https://localhost:8080/",
     "height": 35
    },
    "colab_type": "code",
    "id": "kZ_29rjALOXP",
    "outputId": "7feee634-41c1-4a8d-fbf7-efab249df920"
   },
   "outputs": [
    {
     "data": {
      "text/plain": [
       "(25000, 29)"
      ]
     },
     "execution_count": 3,
     "metadata": {
      "tags": []
     },
     "output_type": "execute_result"
    }
   ],
   "source": [
    "data.shape"
   ]
  },
  {
   "cell_type": "code",
   "execution_count": 4,
   "metadata": {
    "colab": {
     "base_uri": "https://localhost:8080/",
     "height": 35
    },
    "colab_type": "code",
    "id": "Jk9_n1UNMSn5",
    "outputId": "975d76fa-f371-4ca9-bae2-cfb1c1b716e1"
   },
   "outputs": [
    {
     "data": {
      "text/plain": [
       "6192"
      ]
     },
     "execution_count": 4,
     "metadata": {
      "tags": []
     },
     "output_type": "execute_result"
    }
   ],
   "source": [
    "data[\"len\"].max()"
   ]
  },
  {
   "cell_type": "code",
   "execution_count": 5,
   "metadata": {
    "colab": {
     "base_uri": "https://localhost:8080/",
     "height": 35
    },
    "colab_type": "code",
    "id": "u39TW2MlMbP4",
    "outputId": "b922ddf5-3407-4f16-fa3a-79d847a99c83"
   },
   "outputs": [
    {
     "data": {
      "text/plain": [
       "0"
      ]
     },
     "execution_count": 5,
     "metadata": {
      "tags": []
     },
     "output_type": "execute_result"
    }
   ],
   "source": [
    "data[\"len\"].min()"
   ]
  },
  {
   "cell_type": "code",
   "execution_count": 0,
   "metadata": {
    "colab": {},
    "colab_type": "code",
    "id": "SqsISpuUnhF5"
   },
   "outputs": [],
   "source": [
    "sample = data[(data['len'] >= 10) & (data['len'] <=1000)]"
   ]
  },
  {
   "cell_type": "code",
   "execution_count": 5,
   "metadata": {
    "colab": {
     "base_uri": "https://localhost:8080/",
     "height": 556
    },
    "colab_type": "code",
    "id": "5PgYEy1FqDda",
    "outputId": "a3b46967-0d74-4049-f0e5-f18226bdcc7b"
   },
   "outputs": [
    {
     "data": {
      "text/html": [
       "<div>\n",
       "<style scoped>\n",
       "    .dataframe tbody tr th:only-of-type {\n",
       "        vertical-align: middle;\n",
       "    }\n",
       "\n",
       "    .dataframe tbody tr th {\n",
       "        vertical-align: top;\n",
       "    }\n",
       "\n",
       "    .dataframe thead th {\n",
       "        text-align: right;\n",
       "    }\n",
       "</style>\n",
       "<table border=\"1\" class=\"dataframe\">\n",
       "  <thead>\n",
       "    <tr style=\"text-align: right;\">\n",
       "      <th></th>\n",
       "      <th>persons covered treaty eligibility</th>\n",
       "      <th>pe</th>\n",
       "      <th>business profits</th>\n",
       "      <th>shipping air transport</th>\n",
       "      <th>interest</th>\n",
       "      <th>royalty</th>\n",
       "      <th>royaltyfts</th>\n",
       "      <th>fts</th>\n",
       "      <th>independent personal services</th>\n",
       "      <th>dividend</th>\n",
       "      <th>capital gains</th>\n",
       "      <th>other treaty issues</th>\n",
       "      <th>gaar</th>\n",
       "      <th>income not includible in total income</th>\n",
       "      <th>profits gains from business profession</th>\n",
       "      <th>other sources</th>\n",
       "      <th>unexplained income</th>\n",
       "      <th>chapter via deductions</th>\n",
       "      <th>minimum alternate tax</th>\n",
       "      <th>prosecution</th>\n",
       "      <th>interest (interest on income tax refund)</th>\n",
       "      <th>carry forward of losses</th>\n",
       "      <th>penalty</th>\n",
       "      <th>dispute resolution</th>\n",
       "      <th>section 9</th>\n",
       "      <th>refund processing section 143(1d)</th>\n",
       "      <th>dividend distribution tax</th>\n",
       "      <th>para</th>\n",
       "      <th>len</th>\n",
       "    </tr>\n",
       "  </thead>\n",
       "  <tbody>\n",
       "    <tr>\n",
       "      <th>0</th>\n",
       "      <td>0</td>\n",
       "      <td>0</td>\n",
       "      <td>0</td>\n",
       "      <td>0</td>\n",
       "      <td>0</td>\n",
       "      <td>0</td>\n",
       "      <td>0</td>\n",
       "      <td>0</td>\n",
       "      <td>0</td>\n",
       "      <td>0</td>\n",
       "      <td>0</td>\n",
       "      <td>0</td>\n",
       "      <td>0</td>\n",
       "      <td>0</td>\n",
       "      <td>0</td>\n",
       "      <td>0</td>\n",
       "      <td>0</td>\n",
       "      <td>0</td>\n",
       "      <td>0</td>\n",
       "      <td>0</td>\n",
       "      <td>0</td>\n",
       "      <td>1</td>\n",
       "      <td>0</td>\n",
       "      <td>0</td>\n",
       "      <td>0</td>\n",
       "      <td>0</td>\n",
       "      <td>0</td>\n",
       "      <td>consequently the forex loss was allowed as cla...</td>\n",
       "      <td>29</td>\n",
       "    </tr>\n",
       "    <tr>\n",
       "      <th>1</th>\n",
       "      <td>0</td>\n",
       "      <td>0</td>\n",
       "      <td>0</td>\n",
       "      <td>0</td>\n",
       "      <td>0</td>\n",
       "      <td>0</td>\n",
       "      <td>0</td>\n",
       "      <td>0</td>\n",
       "      <td>0</td>\n",
       "      <td>0</td>\n",
       "      <td>0</td>\n",
       "      <td>0</td>\n",
       "      <td>0</td>\n",
       "      <td>0</td>\n",
       "      <td>0</td>\n",
       "      <td>0</td>\n",
       "      <td>0</td>\n",
       "      <td>0</td>\n",
       "      <td>0</td>\n",
       "      <td>0</td>\n",
       "      <td>0</td>\n",
       "      <td>0</td>\n",
       "      <td>0</td>\n",
       "      <td>0</td>\n",
       "      <td>0</td>\n",
       "      <td>0</td>\n",
       "      <td>0</td>\n",
       "      <td>there is no document whatsoever to show that t...</td>\n",
       "      <td>65</td>\n",
       "    </tr>\n",
       "    <tr>\n",
       "      <th>2</th>\n",
       "      <td>0</td>\n",
       "      <td>0</td>\n",
       "      <td>0</td>\n",
       "      <td>0</td>\n",
       "      <td>0</td>\n",
       "      <td>0</td>\n",
       "      <td>0</td>\n",
       "      <td>0</td>\n",
       "      <td>0</td>\n",
       "      <td>0</td>\n",
       "      <td>0</td>\n",
       "      <td>0</td>\n",
       "      <td>0</td>\n",
       "      <td>0</td>\n",
       "      <td>0</td>\n",
       "      <td>0</td>\n",
       "      <td>0</td>\n",
       "      <td>0</td>\n",
       "      <td>0</td>\n",
       "      <td>0</td>\n",
       "      <td>0</td>\n",
       "      <td>0</td>\n",
       "      <td>0</td>\n",
       "      <td>0</td>\n",
       "      <td>0</td>\n",
       "      <td>0</td>\n",
       "      <td>0</td>\n",
       "      <td>3 the ld cit(a) has erred in law and on facts...</td>\n",
       "      <td>32</td>\n",
       "    </tr>\n",
       "    <tr>\n",
       "      <th>3</th>\n",
       "      <td>0</td>\n",
       "      <td>0</td>\n",
       "      <td>0</td>\n",
       "      <td>0</td>\n",
       "      <td>0</td>\n",
       "      <td>0</td>\n",
       "      <td>0</td>\n",
       "      <td>0</td>\n",
       "      <td>0</td>\n",
       "      <td>0</td>\n",
       "      <td>0</td>\n",
       "      <td>0</td>\n",
       "      <td>0</td>\n",
       "      <td>0</td>\n",
       "      <td>0</td>\n",
       "      <td>0</td>\n",
       "      <td>0</td>\n",
       "      <td>0</td>\n",
       "      <td>0</td>\n",
       "      <td>0</td>\n",
       "      <td>0</td>\n",
       "      <td>0</td>\n",
       "      <td>0</td>\n",
       "      <td>0</td>\n",
       "      <td>0</td>\n",
       "      <td>0</td>\n",
       "      <td>0</td>\n",
       "      <td>4 af ter hearing the learned representatives ...</td>\n",
       "      <td>63</td>\n",
       "    </tr>\n",
       "    <tr>\n",
       "      <th>4</th>\n",
       "      <td>0</td>\n",
       "      <td>0</td>\n",
       "      <td>0</td>\n",
       "      <td>0</td>\n",
       "      <td>0</td>\n",
       "      <td>0</td>\n",
       "      <td>0</td>\n",
       "      <td>0</td>\n",
       "      <td>0</td>\n",
       "      <td>0</td>\n",
       "      <td>1</td>\n",
       "      <td>0</td>\n",
       "      <td>0</td>\n",
       "      <td>0</td>\n",
       "      <td>1</td>\n",
       "      <td>1</td>\n",
       "      <td>0</td>\n",
       "      <td>0</td>\n",
       "      <td>0</td>\n",
       "      <td>0</td>\n",
       "      <td>0</td>\n",
       "      <td>0</td>\n",
       "      <td>0</td>\n",
       "      <td>0</td>\n",
       "      <td>0</td>\n",
       "      <td>1</td>\n",
       "      <td>1</td>\n",
       "      <td>8 section 36 (1)(iii) of the income tax act 1...</td>\n",
       "      <td>202</td>\n",
       "    </tr>\n",
       "  </tbody>\n",
       "</table>\n",
       "</div>"
      ],
      "text/plain": [
       "   persons covered treaty eligibility  ...  len\n",
       "0                                   0  ...   29\n",
       "1                                   0  ...   65\n",
       "2                                   0  ...   32\n",
       "3                                   0  ...   63\n",
       "4                                   0  ...  202\n",
       "\n",
       "[5 rows x 29 columns]"
      ]
     },
     "execution_count": 5,
     "metadata": {
      "tags": []
     },
     "output_type": "execute_result"
    }
   ],
   "source": [
    "sample.head()"
   ]
  },
  {
   "cell_type": "code",
   "execution_count": 6,
   "metadata": {
    "colab": {
     "base_uri": "https://localhost:8080/",
     "height": 35
    },
    "colab_type": "code",
    "id": "_WMGWIlvqG8T",
    "outputId": "7b280fa2-d5a8-47d7-89f9-dd99bbbe928f"
   },
   "outputs": [
    {
     "data": {
      "text/plain": [
       "(24664, 29)"
      ]
     },
     "execution_count": 6,
     "metadata": {
      "tags": []
     },
     "output_type": "execute_result"
    }
   ],
   "source": [
    "sample.shape"
   ]
  },
  {
   "cell_type": "markdown",
   "metadata": {
    "colab_type": "text",
    "id": "M8e9GAdQ2bOB"
   },
   "source": [
    "# **Importing Relevant Dependencies**"
   ]
  },
  {
   "cell_type": "code",
   "execution_count": 0,
   "metadata": {
    "colab": {},
    "colab_type": "code",
    "id": "eh8g-Lay2fBA"
   },
   "outputs": [],
   "source": [
    "import numpy as np\n",
    "import matplotlib.pyplot as plt\n",
    "import seaborn as sns\n",
    "from keras.models import Model, load_model \n",
    "from keras.layers import LSTM, Bidirectional, GlobalMaxPool1D, Dropout, Conv1D,Dense, Embedding, Input\n",
    "from keras.preprocessing.text import Tokenizer\n",
    "from keras.preprocessing.sequence import pad_sequences\n",
    "from keras.optimizers import Adam, RMSprop\n",
    "from keras.callbacks import TensorBoard, ModelCheckpoint, EarlyStopping\n",
    "from sklearn import metrics\n",
    "from sklearn.model_selection import train_test_split"
   ]
  },
  {
   "cell_type": "markdown",
   "metadata": {
    "colab_type": "text",
    "id": "QR0MpnHd3Y1B"
   },
   "source": [
    "# **Splitting Data**"
   ]
  },
  {
   "cell_type": "code",
   "execution_count": 0,
   "metadata": {
    "colab": {},
    "colab_type": "code",
    "id": "8yBe3AyJ3Rhq"
   },
   "outputs": [],
   "source": [
    "train, test = train_test_split(sample,test_size=0.2,random_state=123)"
   ]
  },
  {
   "cell_type": "code",
   "execution_count": 9,
   "metadata": {
    "colab": {
     "base_uri": "https://localhost:8080/",
     "height": 54
    },
    "colab_type": "code",
    "id": "Q6bC9Lje3dxJ",
    "outputId": "5db0357c-572f-4f44-c4dd-268de044dc4f"
   },
   "outputs": [
    {
     "name": "stdout",
     "output_type": "stream",
     "text": [
      "(19731, 29)\n",
      "(4933, 29)\n"
     ]
    }
   ],
   "source": [
    "print(train.shape)\n",
    "print(test.shape)"
   ]
  },
  {
   "cell_type": "code",
   "execution_count": 0,
   "metadata": {
    "colab": {},
    "colab_type": "code",
    "id": "5bhjm1Er3iRT"
   },
   "outputs": [],
   "source": [
    "features_train = train.iloc[:,-2]\n",
    "features_test = test.iloc[:,-2]"
   ]
  },
  {
   "cell_type": "code",
   "execution_count": 11,
   "metadata": {
    "colab": {
     "base_uri": "https://localhost:8080/",
     "height": 237
    },
    "colab_type": "code",
    "id": "g09Sx6k03xp2",
    "outputId": "c06d357a-3e13-443b-b043-000a40b81fef"
   },
   "outputs": [
    {
     "data": {
      "text/plain": [
       "3310     6 for the proposition that on a mere differenc...\n",
       "5553     11 the learned cit (dr) countering the submiss...\n",
       "9363     4 on query by the bench assessee has filed rec...\n",
       "1382      18 in substance the contention of the learned...\n",
       "5528     13 the next gift deed available on pages 50 an...\n",
       "                               ...                        \n",
       "15590     32 sec 18 of the indian partnership act runs ...\n",
       "21899    4 learned counsel for the appellant submits th...\n",
       "17976     18 on these facts the question posed before t...\n",
       "15944    5 now we take the appeals filed by the assesse...\n",
       "20242     13 he pointed out that the ito referred to th...\n",
       "Name: para, Length: 19731, dtype: object"
      ]
     },
     "execution_count": 11,
     "metadata": {
      "tags": []
     },
     "output_type": "execute_result"
    }
   ],
   "source": [
    "features_train"
   ]
  },
  {
   "cell_type": "code",
   "execution_count": 0,
   "metadata": {
    "colab": {},
    "colab_type": "code",
    "id": "-4T9Nesd30fJ"
   },
   "outputs": [],
   "source": [
    "y_train = train.iloc[:,1:-2].values\n",
    "y_test = test.iloc[:,1:-2].values"
   ]
  },
  {
   "cell_type": "code",
   "execution_count": 14,
   "metadata": {
    "colab": {
     "base_uri": "https://localhost:8080/",
     "height": 35
    },
    "colab_type": "code",
    "id": "qSFzVySk_5L0",
    "outputId": "bbb83673-2c95-44e7-e3ea-24bb8e11c8c8"
   },
   "outputs": [
    {
     "data": {
      "text/plain": [
       "(19731, 26)"
      ]
     },
     "execution_count": 14,
     "metadata": {
      "tags": []
     },
     "output_type": "execute_result"
    }
   ],
   "source": [
    "y_train.shape"
   ]
  },
  {
   "cell_type": "markdown",
   "metadata": {
    "colab_type": "text",
    "id": "4csItpD2AGb-"
   },
   "source": [
    "# **Data Preparation**"
   ]
  },
  {
   "cell_type": "code",
   "execution_count": 16,
   "metadata": {
    "colab": {
     "base_uri": "https://localhost:8080/",
     "height": 54
    },
    "colab_type": "code",
    "id": "l2P7eYnt_7sp",
    "outputId": "5d5a57a5-5465-4f5d-c015-ca64246bd210"
   },
   "outputs": [
    {
     "name": "stdout",
     "output_type": "stream",
     "text": [
      "Loading word vectors...\n",
      "Found 1917494 word vectors.\n"
     ]
    }
   ],
   "source": [
    "# load in pre-trained word vectors\n",
    "print('Loading word vectors...')\n",
    "word2vec = {}\n",
    "with open(\"drive/My Drive/ content glove glove.42B.300d.txt\") as f:\n",
    "  # is just a space-separated text file in the format:\n",
    "  # word vec[0] vec[1] vec[2] ...\n",
    "  for line in f:\n",
    "    values = line.split()\n",
    "    word = values[0]\n",
    "    vec = np.asarray(values[1:], dtype='float32')\n",
    "    word2vec[word] = vec\n",
    "print('Found %s word vectors.' % len(word2vec))\n"
   ]
  },
  {
   "cell_type": "code",
   "execution_count": 0,
   "metadata": {
    "colab": {},
    "colab_type": "code",
    "id": "QJrJv9hJAfRN"
   },
   "outputs": [],
   "source": [
    "MAX_VOCAB_SIZE = 20000\n",
    "EMBEDDING_DIM = 300"
   ]
  },
  {
   "cell_type": "code",
   "execution_count": 0,
   "metadata": {
    "colab": {},
    "colab_type": "code",
    "id": "YGmAZKuzAglh"
   },
   "outputs": [],
   "source": [
    "# convert the sentences (strings) into integers\n",
    "tokenizer = Tokenizer(num_words=MAX_VOCAB_SIZE)\n",
    "tokenizer.fit_on_texts(features_train)\n",
    "sequences_train = tokenizer.texts_to_sequences(features_train)\n",
    "sequences_test = tokenizer.texts_to_sequences(features_test)"
   ]
  },
  {
   "cell_type": "code",
   "execution_count": 19,
   "metadata": {
    "colab": {
     "base_uri": "https://localhost:8080/",
     "height": 35
    },
    "colab_type": "code",
    "id": "U1o5byEFBLCI",
    "outputId": "fd2555a4-8bfd-4474-d619-5f16e8eee43c"
   },
   "outputs": [
    {
     "name": "stdout",
     "output_type": "stream",
     "text": [
      "Found 105026 unique tokens.\n"
     ]
    }
   ],
   "source": [
    "# get word -> integer mapping\n",
    "word2idx = tokenizer.word_index\n",
    "print('Found %s unique tokens.' % len(word2idx))"
   ]
  },
  {
   "cell_type": "code",
   "execution_count": 0,
   "metadata": {
    "colab": {},
    "colab_type": "code",
    "id": "ojXvHWefBPI0"
   },
   "outputs": [],
   "source": [
    "length = []\n",
    "\n",
    "for i in sequences_train:\n",
    "\n",
    "  length.append(len(i))"
   ]
  },
  {
   "cell_type": "code",
   "execution_count": 21,
   "metadata": {
    "colab": {
     "base_uri": "https://localhost:8080/",
     "height": 286
    },
    "colab_type": "code",
    "id": "SbEpHAzEBSmo",
    "outputId": "3c95e971-6a28-418f-d26c-9c0c4dfdfc9c"
   },
   "outputs": [
    {
     "data": {
      "text/plain": [
       "<matplotlib.axes._subplots.AxesSubplot at 0x7f70c47ddda0>"
      ]
     },
     "execution_count": 21,
     "metadata": {
      "tags": []
     },
     "output_type": "execute_result"
    },
    {
     "data": {
      "image/png": "[encoded data removed]",
      "text/plain": [
       "<Figure size 432x288 with 1 Axes>"
      ]
     },
     "metadata": {
      "tags": []
     },
     "output_type": "display_data"
    }
   ],
   "source": [
    "sns.set()\n",
    "sns.distplot(length)"
   ]
  },
  {
   "cell_type": "code",
   "execution_count": 0,
   "metadata": {
    "colab": {},
    "colab_type": "code",
    "id": "9XCi1JXoBUy8"
   },
   "outputs": [],
   "source": [
    "MAX_SEQUENCE_LENGTH = 100"
   ]
  },
  {
   "cell_type": "code",
   "execution_count": 23,
   "metadata": {
    "colab": {
     "base_uri": "https://localhost:8080/",
     "height": 54
    },
    "colab_type": "code",
    "id": "HLx43y9rBZaR",
    "outputId": "d35c32e8-5ddf-42b7-9ff1-39aeaf6ddc5b"
   },
   "outputs": [
    {
     "name": "stdout",
     "output_type": "stream",
     "text": [
      "Shape of data tensor: (19731, 100)\n",
      "Shape of data tensor: (4933, 100)\n"
     ]
    }
   ],
   "source": [
    "encoded_train = pad_sequences(sequences_train,maxlen=MAX_SEQUENCE_LENGTH)\n",
    "print('Shape of data tensor:', encoded_train.shape)\n",
    "encoded_test = pad_sequences(sequences_test, maxlen=MAX_SEQUENCE_LENGTH)\n",
    "print('Shape of data tensor:', encoded_test.shape)"
   ]
  },
  {
   "cell_type": "markdown",
   "metadata": {
    "colab_type": "text",
    "id": "XdS2EIa5C6ak"
   },
   "source": [
    "# **Model Building**"
   ]
  },
  {
   "cell_type": "code",
   "execution_count": 24,
   "metadata": {
    "colab": {
     "base_uri": "https://localhost:8080/",
     "height": 54
    },
    "colab_type": "code",
    "id": "a29Q4RBtBdZ_",
    "outputId": "ddebce83-c26a-4335-974d-5a1498a1ebbe"
   },
   "outputs": [
    {
     "name": "stdout",
     "output_type": "stream",
     "text": [
      "Filling pre-trained embeddings...\n",
      "(20000, 300)\n"
     ]
    }
   ],
   "source": [
    "# prepare embedding matrix\n",
    "print('Filling pre-trained embeddings...')\n",
    "num_words = min(MAX_VOCAB_SIZE, len(word2idx) + 1)\n",
    "embedding_matrix = np.zeros((num_words, EMBEDDING_DIM))\n",
    "for word, i in word2idx.items():\n",
    "  if i < MAX_VOCAB_SIZE:\n",
    "    embedding_vector = word2vec.get(word)\n",
    "    if embedding_vector is not None:\n",
    "      # words not found in embedding index will be all zeros.\n",
    "        embedding_matrix[i] = embedding_vector\n",
    "\n",
    "print(embedding_matrix.shape)"
   ]
  },
  {
   "cell_type": "code",
   "execution_count": 0,
   "metadata": {
    "colab": {},
    "colab_type": "code",
    "id": "UgIutnz-Bg7E"
   },
   "outputs": [],
   "source": [
    "# note that we set trainable = False so as to keep the embeddings fixed\n",
    "embedding_layer = Embedding(\n",
    "  num_words,\n",
    "  EMBEDDING_DIM,\n",
    "  weights=[embedding_matrix],\n",
    "  input_length=MAX_SEQUENCE_LENGTH,\n",
    "  trainable=False\n",
    ")\n",
    "\n",
    "\n",
    "\n",
    "print('Building model...')\n",
    "\n",
    "# create an LSTM network with a single LSTM\n",
    "input_ = Input(shape=(MAX_SEQUENCE_LENGTH,))\n",
    "x = embedding_layer(input_)\n",
    "# x = LSTM(15, return_sequences=True)(x)\n",
    "x = Bidirectional(LSTM(15, return_sequences=True))(x)\n",
    "x = Conv1D(filters=100,kernel_size=2,padding=\"valid\",activation=\"relu\")(x)\n",
    "x = Conv1D(filters=100,kernel_size=3,padding=\"valid\",activation=\"relu\")(x)\n",
    "x = Conv1D(filters=100,kernel_size=4,padding=\"valid\",activation=\"relu\")(x)\n",
    "x = GlobalMaxPool1D()(x)\n",
    "output = Dense(26, activation=\"sigmoid\")(x)\n",
    "\n",
    "model = Model(input_, output)"
   ]
  },
  {
   "cell_type": "code",
   "execution_count": 0,
   "metadata": {
    "colab": {},
    "colab_type": "code",
    "id": "FuDl7rvJC-E9"
   },
   "outputs": [],
   "source": [
    "# Callbacks\n",
    "model_1 = ModelCheckpoint('model_bilstm_multilabel.h5', save_best_only=True, monitor='val_loss', mode='min')\n",
    "logdir = \"logs/model_bilstm_multilabel/\"\n",
    "tensorboard_callback = TensorBoard(log_dir=logdir)"
   ]
  },
  {
   "cell_type": "code",
   "execution_count": 0,
   "metadata": {
    "colab": {},
    "colab_type": "code",
    "id": "xOimRjthDF3e"
   },
   "outputs": [],
   "source": [
    "model.compile(\n",
    "  loss='binary_crossentropy',\n",
    "  optimizer=Adam(lr=0.01),\n",
    "  metrics=['accuracy']\n",
    ")"
   ]
  },
  {
   "cell_type": "code",
   "execution_count": 28,
   "metadata": {
    "colab": {
     "base_uri": "https://localhost:8080/",
     "height": 625
    },
    "colab_type": "code",
    "id": "Uqm1q-qNDGXR",
    "outputId": "bda653da-ebe0-43d5-ac4d-e5e3e5368cf8"
   },
   "outputs": [
    {
     "name": "stdout",
     "output_type": "stream",
     "text": [
      "Training model...\n",
      "WARNING:tensorflow:From /usr/local/lib/python3.6/dist-packages/keras/backend/tensorflow_backend.py:1033: The name tf.assign_add is deprecated. Please use tf.compat.v1.assign_add instead.\n",
      "\n",
      "WARNING:tensorflow:From /usr/local/lib/python3.6/dist-packages/keras/backend/tensorflow_backend.py:1020: The name tf.assign is deprecated. Please use tf.compat.v1.assign instead.\n",
      "\n",
      "Train on 19731 samples, validate on 4933 samples\n",
      "WARNING:tensorflow:From /usr/local/lib/python3.6/dist-packages/keras/callbacks.py:1122: The name tf.summary.merge_all is deprecated. Please use tf.compat.v1.summary.merge_all instead.\n",
      "\n",
      "WARNING:tensorflow:From /usr/local/lib/python3.6/dist-packages/keras/callbacks.py:1125: The name tf.summary.FileWriter is deprecated. Please use tf.compat.v1.summary.FileWriter instead.\n",
      "\n",
      "Epoch 1/10\n",
      "19731/19731 [==============================] - 18s 905us/step - loss: 0.2331 - acc: 0.9091 - val_loss: 0.1891 - val_acc: 0.9256\n",
      "WARNING:tensorflow:From /usr/local/lib/python3.6/dist-packages/keras/callbacks.py:1265: The name tf.Summary is deprecated. Please use tf.compat.v1.Summary instead.\n",
      "\n",
      "Epoch 2/10\n",
      "19731/19731 [==============================] - 12s 631us/step - loss: 0.1804 - acc: 0.9270 - val_loss: 0.1768 - val_acc: 0.9262\n",
      "Epoch 3/10\n",
      "19731/19731 [==============================] - 12s 617us/step - loss: 0.1725 - acc: 0.9281 - val_loss: 0.1733 - val_acc: 0.9276\n",
      "Epoch 4/10\n",
      "19731/19731 [==============================] - 12s 633us/step - loss: 0.1673 - acc: 0.9302 - val_loss: 0.1705 - val_acc: 0.9297\n",
      "Epoch 5/10\n",
      "19731/19731 [==============================] - 12s 617us/step - loss: 0.1630 - acc: 0.9321 - val_loss: 0.1676 - val_acc: 0.9304\n",
      "Epoch 6/10\n",
      "19731/19731 [==============================] - 12s 627us/step - loss: 0.1592 - acc: 0.9330 - val_loss: 0.1642 - val_acc: 0.9316\n",
      "Epoch 7/10\n",
      "19731/19731 [==============================] - 12s 628us/step - loss: 0.1507 - acc: 0.9376 - val_loss: 0.1491 - val_acc: 0.9402\n",
      "Epoch 8/10\n",
      "19731/19731 [==============================] - 12s 624us/step - loss: 0.1372 - acc: 0.9442 - val_loss: 0.1414 - val_acc: 0.9430\n",
      "Epoch 9/10\n",
      "19731/19731 [==============================] - 12s 620us/step - loss: 0.1305 - acc: 0.9472 - val_loss: 0.1403 - val_acc: 0.9446\n",
      "Epoch 10/10\n",
      "19731/19731 [==============================] - 12s 631us/step - loss: 0.1238 - acc: 0.9504 - val_loss: 0.1332 - val_acc: 0.9488\n"
     ]
    }
   ],
   "source": [
    "print('Training model...')\n",
    "r = model.fit(\n",
    "  encoded_train,\n",
    "  y_train,\n",
    "  batch_size=512,\n",
    "  epochs=10,\n",
    "  validation_data=(encoded_test,y_test),callbacks=[tensorboard_callback,model_1]\n",
    ")"
   ]
  },
  {
   "cell_type": "code",
   "execution_count": 0,
   "metadata": {
    "colab": {},
    "colab_type": "code",
    "id": "j5W5k1euDJLt"
   },
   "outputs": [],
   "source": [
    "predictions = model.predict(encoded_test,batch_size=512)"
   ]
  },
  {
   "cell_type": "markdown",
   "metadata": {
    "colab_type": "text",
    "id": "slq7DYgJETB1"
   },
   "source": [
    "# **f1 micro // 0.1 to 0.5**"
   ]
  },
  {
   "cell_type": "code",
   "execution_count": 30,
   "metadata": {
    "colab": {
     "base_uri": "https://localhost:8080/",
     "height": 770
    },
    "colab_type": "code",
    "id": "2NfYlkA0D2ZF",
    "outputId": "e37eaff8-17a1-487f-f172-ea1ca1dbe0d7"
   },
   "outputs": [
    {
     "name": "stdout",
     "output_type": "stream",
     "text": [
      "F1 score at threshold 0.1 is 0.5011738926279543\n",
      "F1 score at threshold 0.11 is 0.5111429688518181\n",
      "F1 score at threshold 0.12 is 0.5202617925328089\n",
      "F1 score at threshold 0.13 is 0.5278070730506925\n",
      "F1 score at threshold 0.14 is 0.535778077497904\n",
      "F1 score at threshold 0.15 is 0.5427599243856333\n",
      "F1 score at threshold 0.16 is 0.5495608531994982\n",
      "F1 score at threshold 0.17 is 0.5541416761225483\n",
      "F1 score at threshold 0.18 is 0.5574498387299459\n",
      "F1 score at threshold 0.19 is 0.5618758141554494\n",
      "F1 score at threshold 0.2 is 0.5653129908009871\n",
      "F1 score at threshold 0.21 is 0.5694006309148264\n",
      "F1 score at threshold 0.22 is 0.5738214883943528\n",
      "F1 score at threshold 0.23 is 0.5757650421327551\n",
      "F1 score at threshold 0.24 is 0.5776696568851046\n",
      "F1 score at threshold 0.25 is 0.5799198459376464\n",
      "F1 score at threshold 0.26 is 0.5829118977907904\n",
      "F1 score at threshold 0.27 is 0.5848379377855123\n",
      "F1 score at threshold 0.28 is 0.5862488928255092\n",
      "F1 score at threshold 0.29 is 0.5863019866058867\n",
      "F1 score at threshold 0.3 is 0.5868174548777702\n",
      "F1 score at threshold 0.31 is 0.5865818392134181\n",
      "F1 score at threshold 0.32 is 0.5858822153342301\n",
      "F1 score at threshold 0.33 is 0.586196699982258\n",
      "F1 score at threshold 0.34 is 0.5854591074735647\n",
      "F1 score at threshold 0.35 is 0.5848601735776278\n",
      "F1 score at threshold 0.36 is 0.5825159914712154\n",
      "F1 score at threshold 0.37 is 0.5825039931195478\n",
      "F1 score at threshold 0.38 is 0.5801450982823836\n",
      "F1 score at threshold 0.39 is 0.5775186508682841\n",
      "F1 score at threshold 0.4 is 0.5765754377093737\n",
      "F1 score at threshold 0.41 is 0.5748884639898024\n",
      "F1 score at threshold 0.42 is 0.5727500481788399\n",
      "F1 score at threshold 0.43 is 0.5702441867996632\n",
      "F1 score at threshold 0.44 is 0.5681299328158633\n",
      "F1 score at threshold 0.45 is 0.5667213652773219\n",
      "F1 score at threshold 0.46 is 0.5628924581928747\n",
      "F1 score at threshold 0.47 is 0.5607937142096151\n",
      "F1 score at threshold 0.48 is 0.5579773321708805\n",
      "F1 score at threshold 0.49 is 0.555337439924186\n",
      "F1 score at threshold 0.5 is 0.5519121957870339\n"
     ]
    }
   ],
   "source": [
    "for thresh in np.arange(0.1, 0.501, 0.01):\n",
    "    thresh = np.round(thresh, 2)\n",
    "    print(\"F1 score at threshold {0} is {1}\".format(thresh, metrics.f1_score(y_test, (predictions>thresh).astype(int),average=\"micro\")))"
   ]
  },
  {
   "cell_type": "markdown",
   "metadata": {
    "colab_type": "text",
    "id": "nKOA7g4TEZEw"
   },
   "source": [
    "# **Precision // 0.1 to 0.5**"
   ]
  },
  {
   "cell_type": "code",
   "execution_count": 31,
   "metadata": {
    "colab": {
     "base_uri": "https://localhost:8080/",
     "height": 770
    },
    "colab_type": "code",
    "id": "R184LYCJD7bd",
    "outputId": "fd7474a6-a279-4e51-a95c-6a5c255d134b"
   },
   "outputs": [
    {
     "name": "stdout",
     "output_type": "stream",
     "text": [
      "F1 score at threshold 0.1 is 0.35727037400696243\n",
      "F1 score at threshold 0.11 is 0.3708221056114972\n",
      "F1 score at threshold 0.12 is 0.38451127819548875\n",
      "F1 score at threshold 0.13 is 0.39704871211720527\n",
      "F1 score at threshold 0.14 is 0.4106963227897619\n",
      "F1 score at threshold 0.15 is 0.4244574537283425\n",
      "F1 score at threshold 0.16 is 0.4389602254932665\n",
      "F1 score at threshold 0.17 is 0.45167470436678336\n",
      "F1 score at threshold 0.18 is 0.4642109669317706\n",
      "F1 score at threshold 0.19 is 0.47957897857831144\n",
      "F1 score at threshold 0.2 is 0.49419425702181075\n",
      "F1 score at threshold 0.21 is 0.510693184655072\n",
      "F1 score at threshold 0.22 is 0.5279147587178584\n",
      "F1 score at threshold 0.23 is 0.5432397247535801\n",
      "F1 score at threshold 0.24 is 0.5591640502354788\n",
      "F1 score at threshold 0.25 is 0.5758734752946041\n",
      "F1 score at threshold 0.26 is 0.5921479558728099\n",
      "F1 score at threshold 0.27 is 0.6076392812747203\n",
      "F1 score at threshold 0.28 is 0.6211143695014663\n",
      "F1 score at threshold 0.29 is 0.6329283110571081\n",
      "F1 score at threshold 0.3 is 0.6446229137909399\n",
      "F1 score at threshold 0.31 is 0.654238162817701\n",
      "F1 score at threshold 0.32 is 0.6625661375661376\n",
      "F1 score at threshold 0.33 is 0.6724559023066485\n",
      "F1 score at threshold 0.34 is 0.6805555555555556\n",
      "F1 score at threshold 0.35 is 0.68793421239189\n",
      "F1 score at threshold 0.36 is 0.6953170447934846\n",
      "F1 score at threshold 0.37 is 0.7035168422614632\n",
      "F1 score at threshold 0.38 is 0.7100789313904068\n",
      "F1 score at threshold 0.39 is 0.7183406113537117\n",
      "F1 score at threshold 0.4 is 0.7260426615727475\n",
      "F1 score at threshold 0.41 is 0.733214111526581\n",
      "F1 score at threshold 0.42 is 0.7395487723954878\n",
      "F1 score at threshold 0.43 is 0.7461016949152542\n",
      "F1 score at threshold 0.44 is 0.7518991712707183\n",
      "F1 score at threshold 0.45 is 0.7579002808988764\n",
      "F1 score at threshold 0.46 is 0.7617173524150268\n",
      "F1 score at threshold 0.47 is 0.7685709070998358\n",
      "F1 score at threshold 0.48 is 0.774385703648548\n",
      "F1 score at threshold 0.49 is 0.7837218188765762\n",
      "F1 score at threshold 0.5 is 0.789083820662768\n"
     ]
    }
   ],
   "source": [
    "for thresh in np.arange(0.1, 0.501, 0.01):\n",
    "    thresh = np.round(thresh, 2)\n",
    "    print(\"F1 score at threshold {0} is {1}\".format(thresh, metrics.precision_score(y_test, (predictions>thresh).astype(int),average=\"micro\")))"
   ]
  },
  {
   "cell_type": "code",
   "execution_count": 32,
   "metadata": {
    "colab": {
     "base_uri": "https://localhost:8080/",
     "height": 770
    },
    "colab_type": "code",
    "id": "vUKozbA5Ej0m",
    "outputId": "7d00d611-f82a-4106-9366-d6435240894f"
   },
   "outputs": [
    {
     "name": "stdout",
     "output_type": "stream",
     "text": [
      "F1 score at threshold 0.1 is 0.8391864975364294\n",
      "F1 score at threshold 0.11 is 0.8223084180731733\n",
      "F1 score at threshold 0.12 is 0.8041723451095503\n",
      "F1 score at threshold 0.13 is 0.7869797672712024\n",
      "F1 score at threshold 0.14 is 0.7704161861830381\n",
      "F1 score at threshold 0.15 is 0.7524897788028095\n",
      "F1 score at threshold 0.16 is 0.7346682042142783\n",
      "F1 score at threshold 0.17 is 0.7167417968340497\n",
      "F1 score at threshold 0.18 is 0.6975573959534542\n",
      "F1 score at threshold 0.19 is 0.6782681622811616\n",
      "F1 score at threshold 0.2 is 0.660341754900933\n",
      "F1 score at threshold 0.21 is 0.6433588426459796\n",
      "F1 score at threshold 0.22 is 0.6284725862249712\n",
      "F1 score at threshold 0.23 is 0.612433169095293\n",
      "F1 score at threshold 0.24 is 0.5974420798825872\n",
      "F1 score at threshold 0.25 is 0.5840234825453402\n",
      "F1 score at threshold 0.26 is 0.5739595345424049\n",
      "F1 score at threshold 0.27 is 0.5636859209560751\n",
      "F1 score at threshold 0.28 is 0.5550896320369011\n",
      "F1 score at threshold 0.29 is 0.5460740119509383\n",
      "F1 score at threshold 0.3 is 0.5385260509487367\n",
      "F1 score at threshold 0.31 is 0.5316070866967187\n",
      "F1 score at threshold 0.32 is 0.5251074536114897\n",
      "F1 score at threshold 0.33 is 0.5195513156515358\n",
      "F1 score at threshold 0.34 is 0.5136806793164902\n",
      "F1 score at threshold 0.35 is 0.5086487053150225\n",
      "F1 score at threshold 0.36 is 0.5012055771045183\n",
      "F1 score at threshold 0.37 is 0.4970122654366286\n",
      "F1 score at threshold 0.38 is 0.49040779955970226\n",
      "F1 score at threshold 0.39 is 0.4828598385575008\n",
      "F1 score at threshold 0.4 is 0.47814236293112483\n",
      "F1 score at threshold 0.41 is 0.47279589055456545\n",
      "F1 score at threshold 0.42 is 0.46734458538630885\n",
      "F1 score at threshold 0.43 is 0.4614739490512632\n",
      "F1 score at threshold 0.44 is 0.4565468078414928\n",
      "F1 score at threshold 0.45 is 0.45256316175699757\n",
      "F1 score at threshold 0.46 is 0.44637802704686025\n",
      "F1 score at threshold 0.47 is 0.44145088583708986\n",
      "F1 score at threshold 0.48 is 0.43610441346053047\n",
      "F1 score at threshold 0.49 is 0.43002411154209036\n",
      "F1 score at threshold 0.5 is 0.42436314079043924\n"
     ]
    }
   ],
   "source": [
    "for thresh in np.arange(0.1, 0.501, 0.01):\n",
    "    thresh = np.round(thresh, 2)\n",
    "    print(\"F1 score at threshold {0} is {1}\".format(thresh, metrics.recall_score(y_test, (predictions>thresh).astype(int),average=\"micro\")))"
   ]
  },
  {
   "cell_type": "code",
   "execution_count": 0,
   "metadata": {
    "colab": {},
    "colab_type": "code",
    "id": "-ddoha63E6p8"
   },
   "outputs": [],
   "source": []
  }
 ],
 "metadata": {
  "accelerator": "GPU",
  "colab": {
   "collapsed_sections": [
    "Au2qBmio2NjE",
    "M8e9GAdQ2bOB",
    "QR0MpnHd3Y1B"
   ],
   "name": "Multi Label Bi-LSTM witn Conv1D.ipynb",
   "provenance": []
  },
  "kernelspec": {
   "display_name": "Python 3",
   "language": "python",
   "name": "python3"
  },
  "language_info": {
   "codemirror_mode": {
    "name": "ipython",
    "version": 3
   },
   "file_extension": ".py",
   "mimetype": "text/x-python",
   "name": "python",
   "nbconvert_exporter": "python",
   "pygments_lexer": "ipython3",
   "version": "3.6.8"
  }
 },
 "nbformat": 4,
 "nbformat_minor": 1
}
