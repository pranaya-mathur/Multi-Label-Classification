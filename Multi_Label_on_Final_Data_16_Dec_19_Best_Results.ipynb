{
  "nbformat": 4,
  "nbformat_minor": 0,
  "metadata": {
    "colab": {
      "name": "Multi Label on Final Data 16 Dec 19 Best Results.ipynb",
      "provenance": []
    },
    "kernelspec": {
      "name": "python3",
      "display_name": "Python 3"
    },
    "accelerator": "GPU"
  },
  "cells": [
    {
      "cell_type": "code",
      "metadata": {
        "id": "175VLIeRO2ZW",
        "colab_type": "code",
        "outputId": "49c771df-0b49-4a45-b114-34a45fbca665",
        "colab": {
          "base_uri": "https://localhost:8080/",
          "height": 122
        }
      },
      "source": [
        "from google.colab import drive\n",
        "drive.mount('/content/drive')"
      ],
      "execution_count": 0,
      "outputs": [
        {
          "output_type": "stream",
          "text": [
            "Go to this URL in a browser: https://accounts.google.com/o/oauth2/auth?client_id=947318989803-6bn6qk8qdgf4n4g3pfee6491hc0brc4i.apps.googleusercontent.com&redirect_uri=urn%3aietf%3awg%3aoauth%3a2.0%3aoob&response_type=code&scope=email%20https%3a%2f%2fwww.googleapis.com%2fauth%2fdocs.test%20https%3a%2f%2fwww.googleapis.com%2fauth%2fdrive%20https%3a%2f%2fwww.googleapis.com%2fauth%2fdrive.photos.readonly%20https%3a%2f%2fwww.googleapis.com%2fauth%2fpeopleapi.readonly\n",
            "\n",
            "Enter your authorization code:\n",
            "··········\n",
            "Mounted at /content/drive\n"
          ],
          "name": "stdout"
        }
      ]
    },
    {
      "cell_type": "code",
      "metadata": {
        "id": "ibbrzDg8Ok2b",
        "colab_type": "code",
        "colab": {}
      },
      "source": [
        "import pandas as pd\n",
        "import numpy as np\n",
        "import matplotlib.pyplot as plt\n",
        "import seaborn as sns"
      ],
      "execution_count": 0,
      "outputs": []
    },
    {
      "cell_type": "code",
      "metadata": {
        "id": "oWxubR43PQiA",
        "colab_type": "code",
        "colab": {}
      },
      "source": [
        "data = pd.read_csv(\"drive/My Drive/main_issue_data.csv\")"
      ],
      "execution_count": 0,
      "outputs": []
    },
    {
      "cell_type": "code",
      "metadata": {
        "id": "0lAWRY4MPUym",
        "colab_type": "code",
        "outputId": "8f04eaed-2464-4e8d-92fa-e6f4403c0556",
        "colab": {
          "base_uri": "https://localhost:8080/",
          "height": 649
        }
      },
      "source": [
        "data.head()"
      ],
      "execution_count": 4,
      "outputs": [
        {
          "output_type": "execute_result",
          "data": {
            "text/html": [
              "<div>\n",
              "<style scoped>\n",
              "    .dataframe tbody tr th:only-of-type {\n",
              "        vertical-align: middle;\n",
              "    }\n",
              "\n",
              "    .dataframe tbody tr th {\n",
              "        vertical-align: top;\n",
              "    }\n",
              "\n",
              "    .dataframe thead th {\n",
              "        text-align: right;\n",
              "    }\n",
              "</style>\n",
              "<table border=\"1\" class=\"dataframe\">\n",
              "  <thead>\n",
              "    <tr style=\"text-align: right;\">\n",
              "      <th></th>\n",
              "      <th>para</th>\n",
              "      <th>persons covered treaty eligibility</th>\n",
              "      <th>pe</th>\n",
              "      <th>business profits</th>\n",
              "      <th>shipping air transport</th>\n",
              "      <th>interest</th>\n",
              "      <th>royalty</th>\n",
              "      <th>royaltyfts</th>\n",
              "      <th>fts</th>\n",
              "      <th>independent personal services</th>\n",
              "      <th>dividend</th>\n",
              "      <th>capital gains</th>\n",
              "      <th>other treaty issues</th>\n",
              "      <th>gaar</th>\n",
              "      <th>income not includible in total income</th>\n",
              "      <th>profits gains from business profession</th>\n",
              "      <th>other sources</th>\n",
              "      <th>unexplained income</th>\n",
              "      <th>chapter via deductions</th>\n",
              "      <th>minimum alternate tax</th>\n",
              "      <th>prosecution</th>\n",
              "      <th>interest (interest on income tax refund)</th>\n",
              "      <th>carry forward of losses</th>\n",
              "      <th>penalty</th>\n",
              "      <th>dispute resolution</th>\n",
              "      <th>section 9</th>\n",
              "      <th>refund processing section 143(1d)</th>\n",
              "      <th>dividend distribution tax</th>\n",
              "    </tr>\n",
              "  </thead>\n",
              "  <tbody>\n",
              "    <tr>\n",
              "      <th>0</th>\n",
              "      <td>2 the contention of the company was that this ...</td>\n",
              "      <td>1</td>\n",
              "      <td>1</td>\n",
              "      <td>1</td>\n",
              "      <td>1</td>\n",
              "      <td>1</td>\n",
              "      <td>1</td>\n",
              "      <td>1</td>\n",
              "      <td>1</td>\n",
              "      <td>1</td>\n",
              "      <td>1</td>\n",
              "      <td>1</td>\n",
              "      <td>0</td>\n",
              "      <td>0</td>\n",
              "      <td>0</td>\n",
              "      <td>0</td>\n",
              "      <td>0</td>\n",
              "      <td>0</td>\n",
              "      <td>0</td>\n",
              "      <td>0</td>\n",
              "      <td>0</td>\n",
              "      <td>0</td>\n",
              "      <td>0</td>\n",
              "      <td>0</td>\n",
              "      <td>0</td>\n",
              "      <td>1</td>\n",
              "      <td>0</td>\n",
              "      <td>0</td>\n",
              "    </tr>\n",
              "    <tr>\n",
              "      <th>1</th>\n",
              "      <td>6 the questions referred to us by the board fo...</td>\n",
              "      <td>1</td>\n",
              "      <td>1</td>\n",
              "      <td>1</td>\n",
              "      <td>1</td>\n",
              "      <td>1</td>\n",
              "      <td>1</td>\n",
              "      <td>1</td>\n",
              "      <td>1</td>\n",
              "      <td>1</td>\n",
              "      <td>1</td>\n",
              "      <td>1</td>\n",
              "      <td>0</td>\n",
              "      <td>0</td>\n",
              "      <td>0</td>\n",
              "      <td>0</td>\n",
              "      <td>0</td>\n",
              "      <td>0</td>\n",
              "      <td>0</td>\n",
              "      <td>0</td>\n",
              "      <td>0</td>\n",
              "      <td>0</td>\n",
              "      <td>0</td>\n",
              "      <td>0</td>\n",
              "      <td>0</td>\n",
              "      <td>1</td>\n",
              "      <td>0</td>\n",
              "      <td>0</td>\n",
              "    </tr>\n",
              "    <tr>\n",
              "      <th>2</th>\n",
              "      <td>8 as regards the applicability of section 8 of...</td>\n",
              "      <td>1</td>\n",
              "      <td>1</td>\n",
              "      <td>1</td>\n",
              "      <td>1</td>\n",
              "      <td>1</td>\n",
              "      <td>1</td>\n",
              "      <td>1</td>\n",
              "      <td>1</td>\n",
              "      <td>1</td>\n",
              "      <td>1</td>\n",
              "      <td>1</td>\n",
              "      <td>0</td>\n",
              "      <td>0</td>\n",
              "      <td>0</td>\n",
              "      <td>0</td>\n",
              "      <td>0</td>\n",
              "      <td>0</td>\n",
              "      <td>0</td>\n",
              "      <td>0</td>\n",
              "      <td>0</td>\n",
              "      <td>0</td>\n",
              "      <td>0</td>\n",
              "      <td>0</td>\n",
              "      <td>0</td>\n",
              "      <td>1</td>\n",
              "      <td>0</td>\n",
              "      <td>0</td>\n",
              "    </tr>\n",
              "    <tr>\n",
              "      <th>3</th>\n",
              "      <td>11 under the former incometax act no ii of 188...</td>\n",
              "      <td>1</td>\n",
              "      <td>1</td>\n",
              "      <td>1</td>\n",
              "      <td>1</td>\n",
              "      <td>1</td>\n",
              "      <td>1</td>\n",
              "      <td>1</td>\n",
              "      <td>1</td>\n",
              "      <td>1</td>\n",
              "      <td>1</td>\n",
              "      <td>1</td>\n",
              "      <td>0</td>\n",
              "      <td>0</td>\n",
              "      <td>0</td>\n",
              "      <td>0</td>\n",
              "      <td>0</td>\n",
              "      <td>0</td>\n",
              "      <td>0</td>\n",
              "      <td>0</td>\n",
              "      <td>0</td>\n",
              "      <td>0</td>\n",
              "      <td>0</td>\n",
              "      <td>0</td>\n",
              "      <td>0</td>\n",
              "      <td>1</td>\n",
              "      <td>0</td>\n",
              "      <td>0</td>\n",
              "    </tr>\n",
              "    <tr>\n",
              "      <th>4</th>\n",
              "      <td>12 at the request of messrs a john and co mana...</td>\n",
              "      <td>0</td>\n",
              "      <td>0</td>\n",
              "      <td>0</td>\n",
              "      <td>0</td>\n",
              "      <td>0</td>\n",
              "      <td>0</td>\n",
              "      <td>0</td>\n",
              "      <td>0</td>\n",
              "      <td>0</td>\n",
              "      <td>0</td>\n",
              "      <td>1</td>\n",
              "      <td>0</td>\n",
              "      <td>0</td>\n",
              "      <td>0</td>\n",
              "      <td>0</td>\n",
              "      <td>0</td>\n",
              "      <td>0</td>\n",
              "      <td>0</td>\n",
              "      <td>0</td>\n",
              "      <td>0</td>\n",
              "      <td>0</td>\n",
              "      <td>0</td>\n",
              "      <td>0</td>\n",
              "      <td>0</td>\n",
              "      <td>0</td>\n",
              "      <td>0</td>\n",
              "      <td>0</td>\n",
              "    </tr>\n",
              "  </tbody>\n",
              "</table>\n",
              "</div>"
            ],
            "text/plain": [
              "                                                para  ...  dividend distribution tax\n",
              "0  2 the contention of the company was that this ...  ...                          0\n",
              "1  6 the questions referred to us by the board fo...  ...                          0\n",
              "2  8 as regards the applicability of section 8 of...  ...                          0\n",
              "3  11 under the former incometax act no ii of 188...  ...                          0\n",
              "4  12 at the request of messrs a john and co mana...  ...                          0\n",
              "\n",
              "[5 rows x 28 columns]"
            ]
          },
          "metadata": {
            "tags": []
          },
          "execution_count": 4
        }
      ]
    },
    {
      "cell_type": "code",
      "metadata": {
        "id": "ZR-qGG3HPYw0",
        "colab_type": "code",
        "outputId": "b5705eac-fdf4-427d-9e6e-3b9fbe75dd5c",
        "colab": {
          "base_uri": "https://localhost:8080/",
          "height": 615
        }
      },
      "source": [
        "data.tail()"
      ],
      "execution_count": 5,
      "outputs": [
        {
          "output_type": "execute_result",
          "data": {
            "text/html": [
              "<div>\n",
              "<style scoped>\n",
              "    .dataframe tbody tr th:only-of-type {\n",
              "        vertical-align: middle;\n",
              "    }\n",
              "\n",
              "    .dataframe tbody tr th {\n",
              "        vertical-align: top;\n",
              "    }\n",
              "\n",
              "    .dataframe thead th {\n",
              "        text-align: right;\n",
              "    }\n",
              "</style>\n",
              "<table border=\"1\" class=\"dataframe\">\n",
              "  <thead>\n",
              "    <tr style=\"text-align: right;\">\n",
              "      <th></th>\n",
              "      <th>para</th>\n",
              "      <th>persons covered treaty eligibility</th>\n",
              "      <th>pe</th>\n",
              "      <th>business profits</th>\n",
              "      <th>shipping air transport</th>\n",
              "      <th>interest</th>\n",
              "      <th>royalty</th>\n",
              "      <th>royaltyfts</th>\n",
              "      <th>fts</th>\n",
              "      <th>independent personal services</th>\n",
              "      <th>dividend</th>\n",
              "      <th>capital gains</th>\n",
              "      <th>other treaty issues</th>\n",
              "      <th>gaar</th>\n",
              "      <th>income not includible in total income</th>\n",
              "      <th>profits gains from business profession</th>\n",
              "      <th>other sources</th>\n",
              "      <th>unexplained income</th>\n",
              "      <th>chapter via deductions</th>\n",
              "      <th>minimum alternate tax</th>\n",
              "      <th>prosecution</th>\n",
              "      <th>interest (interest on income tax refund)</th>\n",
              "      <th>carry forward of losses</th>\n",
              "      <th>penalty</th>\n",
              "      <th>dispute resolution</th>\n",
              "      <th>section 9</th>\n",
              "      <th>refund processing section 143(1d)</th>\n",
              "      <th>dividend distribution tax</th>\n",
              "    </tr>\n",
              "  </thead>\n",
              "  <tbody>\n",
              "    <tr>\n",
              "      <th>188396</th>\n",
              "      <td>after a discussion of the matter the court int...</td>\n",
              "      <td>0</td>\n",
              "      <td>0</td>\n",
              "      <td>0</td>\n",
              "      <td>0</td>\n",
              "      <td>0</td>\n",
              "      <td>0</td>\n",
              "      <td>0</td>\n",
              "      <td>0</td>\n",
              "      <td>0</td>\n",
              "      <td>0</td>\n",
              "      <td>0</td>\n",
              "      <td>0</td>\n",
              "      <td>0</td>\n",
              "      <td>1</td>\n",
              "      <td>0</td>\n",
              "      <td>0</td>\n",
              "      <td>0</td>\n",
              "      <td>0</td>\n",
              "      <td>0</td>\n",
              "      <td>0</td>\n",
              "      <td>0</td>\n",
              "      <td>0</td>\n",
              "      <td>0</td>\n",
              "      <td>0</td>\n",
              "      <td>0</td>\n",
              "      <td>0</td>\n",
              "      <td>0</td>\n",
              "    </tr>\n",
              "    <tr>\n",
              "      <th>188397</th>\n",
              "      <td>thereafter the court on further discussion hel...</td>\n",
              "      <td>0</td>\n",
              "      <td>0</td>\n",
              "      <td>0</td>\n",
              "      <td>0</td>\n",
              "      <td>0</td>\n",
              "      <td>0</td>\n",
              "      <td>0</td>\n",
              "      <td>0</td>\n",
              "      <td>0</td>\n",
              "      <td>0</td>\n",
              "      <td>0</td>\n",
              "      <td>0</td>\n",
              "      <td>0</td>\n",
              "      <td>1</td>\n",
              "      <td>0</td>\n",
              "      <td>0</td>\n",
              "      <td>0</td>\n",
              "      <td>0</td>\n",
              "      <td>0</td>\n",
              "      <td>0</td>\n",
              "      <td>0</td>\n",
              "      <td>0</td>\n",
              "      <td>0</td>\n",
              "      <td>0</td>\n",
              "      <td>0</td>\n",
              "      <td>0</td>\n",
              "      <td>0</td>\n",
              "    </tr>\n",
              "    <tr>\n",
              "      <th>188398</th>\n",
              "      <td>30 now we may pass on to the consideration of ...</td>\n",
              "      <td>0</td>\n",
              "      <td>0</td>\n",
              "      <td>0</td>\n",
              "      <td>0</td>\n",
              "      <td>0</td>\n",
              "      <td>0</td>\n",
              "      <td>0</td>\n",
              "      <td>0</td>\n",
              "      <td>0</td>\n",
              "      <td>0</td>\n",
              "      <td>1</td>\n",
              "      <td>0</td>\n",
              "      <td>0</td>\n",
              "      <td>1</td>\n",
              "      <td>0</td>\n",
              "      <td>0</td>\n",
              "      <td>0</td>\n",
              "      <td>1</td>\n",
              "      <td>0</td>\n",
              "      <td>0</td>\n",
              "      <td>0</td>\n",
              "      <td>0</td>\n",
              "      <td>0</td>\n",
              "      <td>0</td>\n",
              "      <td>0</td>\n",
              "      <td>0</td>\n",
              "      <td>0</td>\n",
              "    </tr>\n",
              "    <tr>\n",
              "      <th>188399</th>\n",
              "      <td>34 there remains the argument of mr pulak raj ...</td>\n",
              "      <td>0</td>\n",
              "      <td>0</td>\n",
              "      <td>0</td>\n",
              "      <td>0</td>\n",
              "      <td>0</td>\n",
              "      <td>0</td>\n",
              "      <td>0</td>\n",
              "      <td>0</td>\n",
              "      <td>0</td>\n",
              "      <td>0</td>\n",
              "      <td>0</td>\n",
              "      <td>0</td>\n",
              "      <td>0</td>\n",
              "      <td>1</td>\n",
              "      <td>0</td>\n",
              "      <td>0</td>\n",
              "      <td>0</td>\n",
              "      <td>1</td>\n",
              "      <td>0</td>\n",
              "      <td>0</td>\n",
              "      <td>0</td>\n",
              "      <td>0</td>\n",
              "      <td>0</td>\n",
              "      <td>0</td>\n",
              "      <td>0</td>\n",
              "      <td>0</td>\n",
              "      <td>0</td>\n",
              "    </tr>\n",
              "    <tr>\n",
              "      <th>188400</th>\n",
              "      <td>14 commissioner (appeals) is separately define...</td>\n",
              "      <td>0</td>\n",
              "      <td>0</td>\n",
              "      <td>0</td>\n",
              "      <td>0</td>\n",
              "      <td>0</td>\n",
              "      <td>0</td>\n",
              "      <td>0</td>\n",
              "      <td>0</td>\n",
              "      <td>0</td>\n",
              "      <td>0</td>\n",
              "      <td>1</td>\n",
              "      <td>0</td>\n",
              "      <td>0</td>\n",
              "      <td>0</td>\n",
              "      <td>0</td>\n",
              "      <td>1</td>\n",
              "      <td>0</td>\n",
              "      <td>0</td>\n",
              "      <td>0</td>\n",
              "      <td>0</td>\n",
              "      <td>0</td>\n",
              "      <td>0</td>\n",
              "      <td>0</td>\n",
              "      <td>0</td>\n",
              "      <td>0</td>\n",
              "      <td>0</td>\n",
              "      <td>0</td>\n",
              "    </tr>\n",
              "  </tbody>\n",
              "</table>\n",
              "</div>"
            ],
            "text/plain": [
              "                                                     para  ...  dividend distribution tax\n",
              "188396  after a discussion of the matter the court int...  ...                          0\n",
              "188397  thereafter the court on further discussion hel...  ...                          0\n",
              "188398  30 now we may pass on to the consideration of ...  ...                          0\n",
              "188399  34 there remains the argument of mr pulak raj ...  ...                          0\n",
              "188400  14 commissioner (appeals) is separately define...  ...                          0\n",
              "\n",
              "[5 rows x 28 columns]"
            ]
          },
          "metadata": {
            "tags": []
          },
          "execution_count": 5
        }
      ]
    },
    {
      "cell_type": "code",
      "metadata": {
        "id": "okYwbvmRPdA4",
        "colab_type": "code",
        "outputId": "e9d7ecdc-df45-4dd2-feb6-50e6f7e63782",
        "colab": {
          "base_uri": "https://localhost:8080/",
          "height": 578
        }
      },
      "source": [
        "data.info()"
      ],
      "execution_count": 0,
      "outputs": [
        {
          "output_type": "stream",
          "text": [
            "<class 'pandas.core.frame.DataFrame'>\n",
            "RangeIndex: 188401 entries, 0 to 188400\n",
            "Data columns (total 28 columns):\n",
            "para                                        188401 non-null object\n",
            "persons covered treaty eligibility          188401 non-null int64\n",
            "pe                                          188401 non-null int64\n",
            "business profits                            188401 non-null int64\n",
            "shipping air transport                      188401 non-null int64\n",
            "interest                                    188401 non-null int64\n",
            "royalty                                     188401 non-null int64\n",
            "royaltyfts                                  188401 non-null int64\n",
            "fts                                         188401 non-null int64\n",
            "independent personal services               188401 non-null int64\n",
            "dividend                                    188401 non-null int64\n",
            "capital gains                               188401 non-null int64\n",
            "other treaty issues                         188401 non-null int64\n",
            "gaar                                        188401 non-null int64\n",
            "income not includible in total income       188401 non-null int64\n",
            "profits gains from business profession      188401 non-null int64\n",
            "other sources                               188401 non-null int64\n",
            "unexplained income                          188401 non-null int64\n",
            "chapter via deductions                      188401 non-null int64\n",
            "minimum alternate tax                       188401 non-null int64\n",
            "prosecution                                 188401 non-null int64\n",
            "interest (interest on income tax refund)    188401 non-null int64\n",
            "carry forward of losses                     188401 non-null int64\n",
            "penalty                                     188401 non-null int64\n",
            "dispute resolution                          188401 non-null int64\n",
            "section 9                                   188401 non-null int64\n",
            "refund processing section 143(1d)           188401 non-null int64\n",
            "dividend distribution tax                   188401 non-null int64\n",
            "dtypes: int64(27), object(1)\n",
            "memory usage: 40.2+ MB\n"
          ],
          "name": "stdout"
        }
      ]
    },
    {
      "cell_type": "code",
      "metadata": {
        "id": "-UhE4Y9mPlsT",
        "colab_type": "code",
        "colab": {}
      },
      "source": [
        "from sklearn.model_selection import train_test_split"
      ],
      "execution_count": 0,
      "outputs": []
    },
    {
      "cell_type": "code",
      "metadata": {
        "id": "ZiGoppsPPvO0",
        "colab_type": "code",
        "colab": {}
      },
      "source": [
        "train, val = train_test_split(data,test_size=0.2,random_state=123)\n",
        "train, test = train_test_split(train,test_size=0.18,random_state=123)"
      ],
      "execution_count": 0,
      "outputs": []
    },
    {
      "cell_type": "code",
      "metadata": {
        "id": "s8kgiBanP744",
        "colab_type": "code",
        "outputId": "182f689b-dc0b-4047-c932-d7cc2161b7ca",
        "colab": {
          "base_uri": "https://localhost:8080/",
          "height": 68
        }
      },
      "source": [
        "print(train.shape)\n",
        "print(val.shape)\n",
        "print(test.shape)"
      ],
      "execution_count": 10,
      "outputs": [
        {
          "output_type": "stream",
          "text": [
            "(123590, 28)\n",
            "(37681, 28)\n",
            "(27130, 28)\n"
          ],
          "name": "stdout"
        }
      ]
    },
    {
      "cell_type": "code",
      "metadata": {
        "id": "V4vUuUxZQBzI",
        "colab_type": "code",
        "colab": {}
      },
      "source": [
        "import numpy as np\n",
        "import matplotlib.pyplot as plt\n",
        "import seaborn as sns\n",
        "from keras.models import Model, load_model \n",
        "from keras.layers import LSTM, Bidirectional, GlobalMaxPool1D, Dropout, Conv1D,Dense, Embedding, Input, GRU, GlobalAveragePooling1D, GlobalMaxPooling1D, concatenate\n",
        "from keras.preprocessing.sequence import pad_sequences\n",
        "from keras.preprocessing.text import Tokenizer\n",
        "from keras.optimizers import Adam, RMSprop\n",
        "from keras.callbacks import TensorBoard, ModelCheckpoint, EarlyStopping\n",
        "from sklearn import metrics\n",
        "from sklearn.model_selection import train_test_split\n",
        "import tensorflow as tf"
      ],
      "execution_count": 0,
      "outputs": []
    },
    {
      "cell_type": "code",
      "metadata": {
        "id": "O3O2PrxzU0u8",
        "colab_type": "code",
        "colab": {}
      },
      "source": [
        "# F1 Score\n",
        "def f1_score(y_true, y_pred):\n",
        "\t\"\"\"\n",
        "\tCompute the micro f(b) score with b=1.\n",
        "\t\"\"\"\n",
        "\ty_true = tf.cast(y_true, \"float32\")\n",
        "\ty_pred = tf.cast(tf.round(y_pred), \"float32\")\n",
        "\ty_correct = y_true * y_pred\n",
        "\n",
        "\n",
        "\tsum_true = tf.reduce_sum(y_true, axis=1)\n",
        "\tsum_pred = tf.reduce_sum(y_pred, axis=1)\n",
        "\tsum_correct = tf.reduce_sum(y_correct, axis=1)\n",
        "\n",
        "\n",
        "\tprecision = sum_correct / sum_pred\n",
        "\trecall = sum_correct / sum_true\n",
        "\tf_score = 2 * precision * recall / (precision + recall)\n",
        "\tf_score = tf.where(tf.is_nan(f_score), tf.zeros_like(f_score), f_score)\n",
        "\n",
        "\n",
        "\treturn tf.reduce_mean(f_score)"
      ],
      "execution_count": 0,
      "outputs": []
    },
    {
      "cell_type": "code",
      "metadata": {
        "id": "CfoUCgbqVB54",
        "colab_type": "code",
        "colab": {}
      },
      "source": [
        "features_train = train[\"para\"]\n",
        "features_valid = val[\"para\"]\n",
        "features_test = test[\"para\"]"
      ],
      "execution_count": 0,
      "outputs": []
    },
    {
      "cell_type": "code",
      "metadata": {
        "id": "amLGmZSeVDg8",
        "colab_type": "code",
        "colab": {}
      },
      "source": [
        "y_train = train.iloc[:,1:]\n",
        "y_test = test.iloc[:,1:]\n",
        "y_valid = val.iloc[:,1:]"
      ],
      "execution_count": 0,
      "outputs": []
    },
    {
      "cell_type": "code",
      "metadata": {
        "id": "UU2SDD0ZVXzP",
        "colab_type": "code",
        "colab": {
          "base_uri": "https://localhost:8080/",
          "height": 357
        },
        "outputId": "c4ecac53-25d8-4f48-f537-7ddd7c583b7d"
      },
      "source": [
        "!wget http://nlp.stanford.edu/data/glove.840B.300d.zip"
      ],
      "execution_count": 19,
      "outputs": [
        {
          "output_type": "stream",
          "text": [
            "--2019-12-16 06:14:14--  http://nlp.stanford.edu/data/glove.840B.300d.zip\n",
            "Resolving nlp.stanford.edu (nlp.stanford.edu)... 171.64.67.140\n",
            "Connecting to nlp.stanford.edu (nlp.stanford.edu)|171.64.67.140|:80... connected.\n",
            "HTTP request sent, awaiting response... 302 Found\n",
            "Location: https://nlp.stanford.edu/data/glove.840B.300d.zip [following]\n",
            "--2019-12-16 06:14:15--  https://nlp.stanford.edu/data/glove.840B.300d.zip\n",
            "Connecting to nlp.stanford.edu (nlp.stanford.edu)|171.64.67.140|:443... connected.\n",
            "HTTP request sent, awaiting response... 301 Moved Permanently\n",
            "Location: http://downloads.cs.stanford.edu/nlp/data/glove.840B.300d.zip [following]\n",
            "--2019-12-16 06:14:15--  http://downloads.cs.stanford.edu/nlp/data/glove.840B.300d.zip\n",
            "Resolving downloads.cs.stanford.edu (downloads.cs.stanford.edu)... 171.64.64.22\n",
            "Connecting to downloads.cs.stanford.edu (downloads.cs.stanford.edu)|171.64.64.22|:80... connected.\n",
            "HTTP request sent, awaiting response... 200 OK\n",
            "Length: 2176768927 (2.0G) [application/zip]\n",
            "Saving to: ‘glove.840B.300d.zip’\n",
            "\n",
            "glove.840B.300d.zip 100%[===================>]   2.03G  2.07MB/s    in 16m 56s \n",
            "\n",
            "2019-12-16 06:31:12 (2.04 MB/s) - ‘glove.840B.300d.zip’ saved [2176768927/2176768927]\n",
            "\n"
          ],
          "name": "stdout"
        }
      ]
    },
    {
      "cell_type": "code",
      "metadata": {
        "id": "Lq_mZk0qWalx",
        "colab_type": "code",
        "colab": {}
      },
      "source": [
        "import zipfile\n",
        "zip_ref = zipfile.ZipFile(\"glove.840B.300d.zip\", 'r')\n",
        "zip_ref.extractall(\"glove\")\n",
        "zip_ref.close()"
      ],
      "execution_count": 0,
      "outputs": []
    },
    {
      "cell_type": "code",
      "metadata": {
        "id": "Qr7TNZRDZVDh",
        "colab_type": "code",
        "colab": {}
      },
      "source": [
        "!pip install -U -q PyDrive\n",
        "from pydrive.auth import GoogleAuth\n",
        "from pydrive.drive import GoogleDrive\n",
        "from google.colab import auth\n",
        "from oauth2client.client import GoogleCredentials"
      ],
      "execution_count": 0,
      "outputs": []
    },
    {
      "cell_type": "code",
      "metadata": {
        "id": "FRii5lWgZWMp",
        "colab_type": "code",
        "colab": {}
      },
      "source": [
        "auth.authenticate_user()\n",
        "gauth = GoogleAuth()\n",
        "gauth.credentials = GoogleCredentials.get_application_default()\n",
        "drive = GoogleDrive(gauth)"
      ],
      "execution_count": 0,
      "outputs": []
    },
    {
      "cell_type": "code",
      "metadata": {
        "id": "YHmXHdgFZYmc",
        "colab_type": "code",
        "colab": {
          "base_uri": "https://localhost:8080/",
          "height": 34
        },
        "outputId": "466316ea-e6af-4c66-c4e7-5162faddb62a"
      },
      "source": [
        "weights_file = drive.CreateFile({'title' : 'glove/glove.840B.300d.txt'})\n",
        "weights_file.SetContentFile('glove/glove.840B.300d.txt')\n",
        "weights_file.Upload()\n",
        "drive.CreateFile({'id': weights_file.get('id')})"
      ],
      "execution_count": 23,
      "outputs": [
        {
          "output_type": "execute_result",
          "data": {
            "text/plain": [
              "GoogleDriveFile({'id': '1W5Gwr6GFtV2-78vCjz0qROx1IfSJZRcE'})"
            ]
          },
          "metadata": {
            "tags": []
          },
          "execution_count": 23
        }
      ]
    },
    {
      "cell_type": "code",
      "metadata": {
        "id": "CTjARrsGbUHm",
        "colab_type": "code",
        "colab": {}
      },
      "source": [
        "max_features = 80000\n",
        "EMBEDDING_DIM = 300"
      ],
      "execution_count": 0,
      "outputs": []
    },
    {
      "cell_type": "code",
      "metadata": {
        "id": "UYnKVEZZbf8h",
        "colab_type": "code",
        "colab": {}
      },
      "source": [
        "# convert the sentences (strings) into integers\n",
        "tokenizer = Tokenizer(num_words=max_features)\n",
        "tokenizer.fit_on_texts(features_train)\n",
        "sequences_train = tokenizer.texts_to_sequences(features_train)\n",
        "sequences_test = tokenizer.texts_to_sequences(features_test)"
      ],
      "execution_count": 0,
      "outputs": []
    },
    {
      "cell_type": "code",
      "metadata": {
        "id": "p-eDkBWmbhxY",
        "colab_type": "code",
        "colab": {}
      },
      "source": [
        "sequences_valid = tokenizer.texts_to_sequences(features_valid)"
      ],
      "execution_count": 0,
      "outputs": []
    },
    {
      "cell_type": "code",
      "metadata": {
        "id": "tD2rr86vbuEp",
        "colab_type": "code",
        "colab": {
          "base_uri": "https://localhost:8080/",
          "height": 34
        },
        "outputId": "4861afd8-f68c-419b-d904-26ac5846ddec"
      },
      "source": [
        "# get word -> integer mapping\n",
        "word2idx = tokenizer.word_index\n",
        "print('Found %s unique tokens.' % len(word2idx))"
      ],
      "execution_count": 28,
      "outputs": [
        {
          "output_type": "stream",
          "text": [
            "Found 767221 unique tokens.\n"
          ],
          "name": "stdout"
        }
      ]
    },
    {
      "cell_type": "code",
      "metadata": {
        "id": "6vWlxGoPbwhJ",
        "colab_type": "code",
        "colab": {}
      },
      "source": [
        "length = []\n",
        "\n",
        "for i in sequences_train:\n",
        "\n",
        "  length.append(len(i))"
      ],
      "execution_count": 0,
      "outputs": []
    },
    {
      "cell_type": "code",
      "metadata": {
        "id": "KDREDJ4ObzbR",
        "colab_type": "code",
        "colab": {
          "base_uri": "https://localhost:8080/",
          "height": 285
        },
        "outputId": "f07e3ba0-1cdc-48ee-ff8a-c9268a498bc7"
      },
      "source": [
        "sns.set()\n",
        "sns.distplot(length)"
      ],
      "execution_count": 30,
      "outputs": [
        {
          "output_type": "execute_result",
          "data": {
            "text/plain": [
              "<matplotlib.axes._subplots.AxesSubplot at 0x7f9456e15048>"
            ]
          },
          "metadata": {
            "tags": []
          },
          "execution_count": 30
        },
        {
          "output_type": "display_data",
          "data": {
            "image/png": "[encoded data removed]",
            "text/plain": [
              "<Figure size 432x288 with 1 Axes>"
            ]
          },
          "metadata": {
            "tags": []
          }
        }
      ]
    },
    {
      "cell_type": "code",
      "metadata": {
        "id": "Z-DK04z6b1n0",
        "colab_type": "code",
        "colab": {
          "base_uri": "https://localhost:8080/",
          "height": 68
        },
        "outputId": "7b461559-78b8-46bf-b9ac-296c29b570a7"
      },
      "source": [
        "MAX_SEQUENCE_LENGTH = 500\n",
        "encoded_train = pad_sequences(sequences_train,maxlen=MAX_SEQUENCE_LENGTH)\n",
        "print('Shape of data tensor:', encoded_train.shape)\n",
        "encoded_test = pad_sequences(sequences_test, maxlen=MAX_SEQUENCE_LENGTH)\n",
        "print('Shape of data tensor:', encoded_test.shape)\n",
        "encoded_valid = pad_sequences(sequences_valid, maxlen=MAX_SEQUENCE_LENGTH)\n",
        "print('Shape of data tensor:', encoded_valid.shape)"
      ],
      "execution_count": 31,
      "outputs": [
        {
          "output_type": "stream",
          "text": [
            "Shape of data tensor: (123590, 500)\n",
            "Shape of data tensor: (27130, 500)\n",
            "Shape of data tensor: (37681, 500)\n"
          ],
          "name": "stdout"
        }
      ]
    },
    {
      "cell_type": "code",
      "metadata": {
        "id": "AVnfXAg0b8oY",
        "colab_type": "code",
        "colab": {}
      },
      "source": [
        "EMBEDDING_FILE = 'glove/glove.840B.300d.txt'\n",
        "def get_coefs(word,*arr): return word, np.asarray(arr, dtype='float32')\n",
        "embeddings_index = dict(get_coefs(*o.split(\" \")) for o in open(EMBEDDING_FILE))\n",
        "\n",
        "all_embs = np.stack(embeddings_index.values())\n",
        "emb_mean,emb_std = all_embs.mean(), all_embs.std()\n",
        "embed_size = all_embs.shape[1]\n",
        "\n",
        "word_index = tokenizer.word_index\n",
        "nb_words = min(max_features, len(word_index))\n",
        "embedding_matrix = np.random.normal(emb_mean, emb_std, (nb_words, embed_size))\n",
        "for word, i in word_index.items():\n",
        "    if i >= max_features: continue\n",
        "    embedding_vector = embeddings_index.get(word)\n",
        "    if embedding_vector is not None: embedding_matrix[i] = embedding_vector"
      ],
      "execution_count": 0,
      "outputs": []
    },
    {
      "cell_type": "code",
      "metadata": {
        "id": "H8oM34X4cZqZ",
        "colab_type": "code",
        "colab": {
          "base_uri": "https://localhost:8080/",
          "height": 34
        },
        "outputId": "481e27d7-b929-4c45-82fb-4c1374614da7"
      },
      "source": [
        "print(embedding_matrix.shape)"
      ],
      "execution_count": 34,
      "outputs": [
        {
          "output_type": "stream",
          "text": [
            "(80000, 300)\n"
          ],
          "name": "stdout"
        }
      ]
    },
    {
      "cell_type": "code",
      "metadata": {
        "id": "6x1oZz4ndBGg",
        "colab_type": "code",
        "colab": {
          "base_uri": "https://localhost:8080/",
          "height": 34
        },
        "outputId": "bfe19229-ee93-4a8e-de72-acb7106611f2"
      },
      "source": [
        "y_train.shape"
      ],
      "execution_count": 35,
      "outputs": [
        {
          "output_type": "execute_result",
          "data": {
            "text/plain": [
              "(123590, 27)"
            ]
          },
          "metadata": {
            "tags": []
          },
          "execution_count": 35
        }
      ]
    },
    {
      "cell_type": "code",
      "metadata": {
        "id": "WFWLGmQAcY32",
        "colab_type": "code",
        "colab": {}
      },
      "source": [
        "embedding_layer = Embedding(\n",
        "  nb_words,\n",
        "  EMBEDDING_DIM,\n",
        "  weights=[embedding_matrix],\n",
        "  input_length=MAX_SEQUENCE_LENGTH,\n",
        "  trainable=False\n",
        ")\n",
        "print('Building model...')\n",
        "\n",
        "input_ = Input(shape=(MAX_SEQUENCE_LENGTH,))\n",
        "x = embedding_layer(input_)\n",
        "x = Bidirectional(GRU(128, return_sequences=True, dropout=0.1,\n",
        "                                                      recurrent_dropout=0.1))(x)\n",
        " \n",
        "x = Conv1D(64, kernel_size=3, padding=\"valid\", kernel_initializer=\"glorot_uniform\")(x)\n",
        " \n",
        "avg_pool = GlobalAveragePooling1D()(x)\n",
        "max_pool = GlobalMaxPooling1D()(x)\n",
        " \n",
        "x = concatenate([avg_pool, max_pool])\n",
        " \n",
        "preds = Dense(27, activation=\"sigmoid\")(x)\n",
        " \n",
        "model = Model(input_, preds)\n",
        " \n",
        "\n",
        " \n",
        "model.compile(loss='binary_crossentropy', optimizer=Adam(lr=1e-3), metrics=[f1_score])"
      ],
      "execution_count": 0,
      "outputs": []
    },
    {
      "cell_type": "code",
      "metadata": {
        "id": "azxyPF7VdFMd",
        "colab_type": "code",
        "colab": {}
      },
      "source": [
        "# Callbacks\n",
        "model_3 = ModelCheckpoint('model_bilstm_multilabel_2.h5', save_best_only=True, monitor='val_loss', mode='min')\n",
        "logdir = \"logs/model_bilstm_multilabel/\"\n",
        "tensorboard_callback = TensorBoard(log_dir=logdir)"
      ],
      "execution_count": 0,
      "outputs": []
    },
    {
      "cell_type": "code",
      "metadata": {
        "id": "pgvYCRzVdQED",
        "colab_type": "code",
        "colab": {
          "base_uri": "https://localhost:8080/",
          "height": 581
        },
        "outputId": "c5ea309e-5b8b-46cd-91b5-a7380cfb6056"
      },
      "source": [
        "print('Training model...')\n",
        "r = model.fit(\n",
        "  encoded_train,\n",
        "  y_train,\n",
        "  batch_size=512,\n",
        "  epochs=10,\n",
        "  validation_data=(encoded_valid,y_valid),callbacks=[tensorboard_callback,model_3]\n",
        ")"
      ],
      "execution_count": 39,
      "outputs": [
        {
          "output_type": "stream",
          "text": [
            "Training model...\n",
            "WARNING:tensorflow:From /usr/local/lib/python3.6/dist-packages/keras/backend/tensorflow_backend.py:1033: The name tf.assign_add is deprecated. Please use tf.compat.v1.assign_add instead.\n",
            "\n",
            "WARNING:tensorflow:From /usr/local/lib/python3.6/dist-packages/keras/backend/tensorflow_backend.py:1020: The name tf.assign is deprecated. Please use tf.compat.v1.assign instead.\n",
            "\n",
            "Train on 123590 samples, validate on 37681 samples\n",
            "WARNING:tensorflow:From /usr/local/lib/python3.6/dist-packages/keras/callbacks.py:1122: The name tf.summary.merge_all is deprecated. Please use tf.compat.v1.summary.merge_all instead.\n",
            "\n",
            "WARNING:tensorflow:From /usr/local/lib/python3.6/dist-packages/keras/callbacks.py:1125: The name tf.summary.FileWriter is deprecated. Please use tf.compat.v1.summary.FileWriter instead.\n",
            "\n",
            "Epoch 1/10\n",
            "123590/123590 [==============================] - 357s 3ms/step - loss: 0.2545 - f1_score: 0.1653 - val_loss: 0.1790 - val_f1_score: 0.3666\n",
            "WARNING:tensorflow:From /usr/local/lib/python3.6/dist-packages/keras/callbacks.py:1265: The name tf.Summary is deprecated. Please use tf.compat.v1.Summary instead.\n",
            "\n",
            "Epoch 2/10\n",
            "123590/123590 [==============================] - 356s 3ms/step - loss: 0.1570 - f1_score: 0.4613 - val_loss: 0.1405 - val_f1_score: 0.5422\n",
            "Epoch 3/10\n",
            "123590/123590 [==============================] - 343s 3ms/step - loss: 0.1326 - f1_score: 0.5707 - val_loss: 0.1251 - val_f1_score: 0.6094\n",
            "Epoch 4/10\n",
            "123590/123590 [==============================] - 347s 3ms/step - loss: 0.1203 - f1_score: 0.6260 - val_loss: 0.1167 - val_f1_score: 0.6470\n",
            "Epoch 5/10\n",
            "123590/123590 [==============================] - 353s 3ms/step - loss: 0.1117 - f1_score: 0.6602 - val_loss: 0.1103 - val_f1_score: 0.6861\n",
            "Epoch 6/10\n",
            "123590/123590 [==============================] - 353s 3ms/step - loss: 0.1062 - f1_score: 0.6825 - val_loss: 0.1073 - val_f1_score: 0.6887\n",
            "Epoch 7/10\n",
            "123590/123590 [==============================] - 341s 3ms/step - loss: 0.1016 - f1_score: 0.6986 - val_loss: 0.1048 - val_f1_score: 0.7003\n",
            "Epoch 8/10\n",
            "123590/123590 [==============================] - 337s 3ms/step - loss: 0.0981 - f1_score: 0.7104 - val_loss: 0.1024 - val_f1_score: 0.7195\n",
            "Epoch 9/10\n",
            "123590/123590 [==============================] - 336s 3ms/step - loss: 0.0950 - f1_score: 0.7210 - val_loss: 0.1002 - val_f1_score: 0.7248\n",
            "Epoch 10/10\n",
            "123590/123590 [==============================] - 336s 3ms/step - loss: 0.0922 - f1_score: 0.7299 - val_loss: 0.0991 - val_f1_score: 0.7297\n"
          ],
          "name": "stdout"
        }
      ]
    },
    {
      "cell_type": "code",
      "metadata": {
        "id": "91Z6N2_3dR7A",
        "colab_type": "code",
        "colab": {
          "base_uri": "https://localhost:8080/",
          "height": 51
        },
        "outputId": "5877d8f4-c647-4b8e-a3f6-13a437004224"
      },
      "source": [
        "result = model.evaluate(encoded_test,y_test,batch_size=512)\n",
        "print(result)"
      ],
      "execution_count": 40,
      "outputs": [
        {
          "output_type": "stream",
          "text": [
            "27130/27130 [==============================] - 28s 1ms/step\n",
            "[0.09705059953964904, 0.7307835180909705]\n"
          ],
          "name": "stdout"
        }
      ]
    },
    {
      "cell_type": "code",
      "metadata": {
        "id": "ckhekuNdryYL",
        "colab_type": "code",
        "colab": {}
      },
      "source": [
        "%load_ext tensorboard"
      ],
      "execution_count": 0,
      "outputs": []
    },
    {
      "cell_type": "code",
      "metadata": {
        "id": "6FdVdgW5sSb0",
        "colab_type": "code",
        "colab": {
          "base_uri": "https://localhost:8080/",
          "height": 17
        },
        "outputId": "642f0642-55fa-4a43-a5c0-cfbd8320a9eb"
      },
      "source": [
        "%tensorboard --logdir logs"
      ],
      "execution_count": 42,
      "outputs": [
        {
          "output_type": "display_data",
          "data": {
            "text/html": [
              "\n",
              "    <div id=\"root\"></div>\n",
              "    <script>\n",
              "      (function() {\n",
              "        window.TENSORBOARD_ENV = window.TENSORBOARD_ENV || {};\n",
              "        window.TENSORBOARD_ENV[\"IN_COLAB\"] = true;\n",
              "        document.querySelector(\"base\").href = \"https://localhost:6006\";\n",
              "        function fixUpTensorboard(root) {\n",
              "          const tftb = root.querySelector(\"tf-tensorboard\");\n",
              "          // Disable the fragment manipulation behavior in Colab. Not\n",
              "          // only is the behavior not useful (as the iframe's location\n",
              "          // is not visible to the user), it causes TensorBoard's usage\n",
              "          // of `window.replace` to navigate away from the page and to\n",
              "          // the `localhost:<port>` URL specified by the base URI, which\n",
              "          // in turn causes the frame to (likely) crash.\n",
              "          tftb.removeAttribute(\"use-hash\");\n",
              "        }\n",
              "        function executeAllScripts(root) {\n",
              "          // When `script` elements are inserted into the DOM by\n",
              "          // assigning to an element's `innerHTML`, the scripts are not\n",
              "          // executed. Thus, we manually re-insert these scripts so that\n",
              "          // TensorBoard can initialize itself.\n",
              "          for (const script of root.querySelectorAll(\"script\")) {\n",
              "            const newScript = document.createElement(\"script\");\n",
              "            newScript.type = script.type;\n",
              "            newScript.textContent = script.textContent;\n",
              "            root.appendChild(newScript);\n",
              "            script.remove();\n",
              "          }\n",
              "        }\n",
              "        function setHeight(root, height) {\n",
              "          // We set the height dynamically after the TensorBoard UI has\n",
              "          // been initialized. This avoids an intermediate state in\n",
              "          // which the container plus the UI become taller than the\n",
              "          // final width and cause the Colab output frame to be\n",
              "          // permanently resized, eventually leading to an empty\n",
              "          // vertical gap below the TensorBoard UI. It's not clear\n",
              "          // exactly what causes this problematic intermediate state,\n",
              "          // but setting the height late seems to fix it.\n",
              "          root.style.height = `${height}px`;\n",
              "        }\n",
              "        const root = document.getElementById(\"root\");\n",
              "        fetch(\".\")\n",
              "          .then((x) => x.text())\n",
              "          .then((html) => void (root.innerHTML = html))\n",
              "          .then(() => fixUpTensorboard(root))\n",
              "          .then(() => executeAllScripts(root))\n",
              "          .then(() => setHeight(root, 800));\n",
              "      })();\n",
              "    </script>\n",
              "  "
            ],
            "text/plain": [
              "<IPython.core.display.HTML object>"
            ]
          },
          "metadata": {
            "tags": []
          }
        }
      ]
    },
    {
      "cell_type": "code",
      "metadata": {
        "id": "PHub3unKswnB",
        "colab_type": "code",
        "colab": {}
      },
      "source": [
        "!pip install -U -q PyDrive\n",
        "from pydrive.auth import GoogleAuth\n",
        "from pydrive.drive import GoogleDrive\n",
        "from google.colab import auth\n",
        "from oauth2client.client import GoogleCredentials"
      ],
      "execution_count": 0,
      "outputs": []
    },
    {
      "cell_type": "code",
      "metadata": {
        "id": "z3FogBBws1ni",
        "colab_type": "code",
        "colab": {}
      },
      "source": [
        "auth.authenticate_user()\n",
        "gauth = GoogleAuth()\n",
        "gauth.credentials = GoogleCredentials.get_application_default()\n",
        "drive = GoogleDrive(gauth)"
      ],
      "execution_count": 0,
      "outputs": []
    },
    {
      "cell_type": "code",
      "metadata": {
        "id": "I0TQeF5Vs9HQ",
        "colab_type": "code",
        "colab": {
          "base_uri": "https://localhost:8080/",
          "height": 34
        },
        "outputId": "6d771e84-27e0-4956-a436-06a030399697"
      },
      "source": [
        "weights_file = drive.CreateFile({'title' : 'model_bilstm_multilabel_2.h5'})\n",
        "weights_file.SetContentFile('model_bilstm_multilabel_2.h5')\n",
        "weights_file.Upload()\n",
        "drive.CreateFile({'id': weights_file.get('id')})"
      ],
      "execution_count": 46,
      "outputs": [
        {
          "output_type": "execute_result",
          "data": {
            "text/plain": [
              "GoogleDriveFile({'id': '1sta3WeS7GENP77Rbbgl5b2gLEfM_grF0'})"
            ]
          },
          "metadata": {
            "tags": []
          },
          "execution_count": 46
        }
      ]
    },
    {
      "cell_type": "code",
      "metadata": {
        "id": "iQVcTCSRtNEJ",
        "colab_type": "code",
        "colab": {}
      },
      "source": [
        "\n",
        "# serialize model to JSON\n",
        "model_ = model.to_json()\n",
        "with open(\"model_.json\", \"w\") as json_file:\n",
        "    json_file.write(model_)"
      ],
      "execution_count": 0,
      "outputs": []
    },
    {
      "cell_type": "code",
      "metadata": {
        "id": "YKQWpX_Esi2f",
        "colab_type": "code",
        "colab": {}
      },
      "source": [
        "predictions = model.predict(encoded_test,batch_size=512)"
      ],
      "execution_count": 0,
      "outputs": []
    },
    {
      "cell_type": "code",
      "metadata": {
        "id": "h2ooPAh4sphj",
        "colab_type": "code",
        "colab": {
          "base_uri": "https://localhost:8080/",
          "height": 374
        },
        "outputId": "09d161bf-7e8c-4cbc-ef13-3466369b903e"
      },
      "source": [
        "for thresh in np.arange(0.5, 0.701, 0.01):\n",
        "    thresh = np.round(thresh, 2)\n",
        "    print(\"Precision score at threshold {0} is {1}\".format(thresh, metrics.precision_score(y_test, (predictions>thresh).astype(int),average=\"micro\")))"
      ],
      "execution_count": 50,
      "outputs": [
        {
          "output_type": "stream",
          "text": [
            "Precision score at threshold 0.5 is 0.9134619322603105\n",
            "Precision score at threshold 0.51 is 0.9161846931626163\n",
            "Precision score at threshold 0.52 is 0.9188583755081723\n",
            "Precision score at threshold 0.53 is 0.9216316646486576\n",
            "Precision score at threshold 0.54 is 0.9239979833627426\n",
            "Precision score at threshold 0.55 is 0.9266351058133965\n",
            "Precision score at threshold 0.56 is 0.9288446824789595\n",
            "Precision score at threshold 0.57 is 0.9310934671361167\n",
            "Precision score at threshold 0.58 is 0.9331766189834589\n",
            "Precision score at threshold 0.59 is 0.9353950403690888\n",
            "Precision score at threshold 0.6 is 0.9371928858223775\n",
            "Precision score at threshold 0.61 is 0.9396193393130606\n",
            "Precision score at threshold 0.62 is 0.9417873014476174\n",
            "Precision score at threshold 0.63 is 0.9439110363848208\n",
            "Precision score at threshold 0.64 is 0.9456790855584054\n",
            "Precision score at threshold 0.65 is 0.9473660674358286\n",
            "Precision score at threshold 0.66 is 0.9490496462405564\n",
            "Precision score at threshold 0.67 is 0.9507265163390811\n",
            "Precision score at threshold 0.68 is 0.9523585834861273\n",
            "Precision score at threshold 0.69 is 0.9541478727294892\n",
            "Precision score at threshold 0.7 is 0.9558798730664868\n"
          ],
          "name": "stdout"
        }
      ]
    },
    {
      "cell_type": "code",
      "metadata": {
        "id": "N3ZnSBzZtprJ",
        "colab_type": "code",
        "colab": {
          "base_uri": "https://localhost:8080/",
          "height": 374
        },
        "outputId": "463d048e-8c00-444e-8ada-72a07b9e6033"
      },
      "source": [
        "for thresh in np.arange(0.5, 0.701, 0.01):\n",
        "    thresh = np.round(thresh, 2)\n",
        "    print(\"Recall score at threshold {0} is {1}\".format(thresh, metrics.recall_score(y_test, (predictions>thresh).astype(int),average=\"micro\")))"
      ],
      "execution_count": 51,
      "outputs": [
        {
          "output_type": "stream",
          "text": [
            "Recall score at threshold 0.5 is 0.7870703648810784\n",
            "Recall score at threshold 0.51 is 0.7844590302773661\n",
            "Recall score at threshold 0.52 is 0.7816359658409203\n",
            "Recall score at threshold 0.53 is 0.7789540546262969\n",
            "Recall score at threshold 0.54 is 0.7760957018843955\n",
            "Recall score at threshold 0.55 is 0.7736019949655351\n",
            "Recall score at threshold 0.56 is 0.7711200508151599\n",
            "Recall score at threshold 0.57 is 0.7683322746841696\n",
            "Recall score at threshold 0.58 is 0.7658032794598537\n",
            "Recall score at threshold 0.59 is 0.7631566565506858\n",
            "Recall score at threshold 0.6 is 0.7605335591784882\n",
            "Recall score at threshold 0.61 is 0.7578163596584092\n",
            "Recall score at threshold 0.62 is 0.7553108899710635\n",
            "Recall score at threshold 0.63 is 0.7528171830522031\n",
            "Recall score at threshold 0.64 is 0.7503117133648576\n",
            "Recall score at threshold 0.65 is 0.7475827510762934\n",
            "Recall score at threshold 0.66 is 0.7447361611028772\n",
            "Recall score at threshold 0.67 is 0.7419366222034018\n",
            "Recall score at threshold 0.68 is 0.7392782365257488\n",
            "Recall score at threshold 0.69 is 0.736525748700214\n",
            "Recall score at threshold 0.7 is 0.7334439033570941\n"
          ],
          "name": "stdout"
        }
      ]
    },
    {
      "cell_type": "code",
      "metadata": {
        "id": "HheYRuMAuDhm",
        "colab_type": "code",
        "colab": {
          "base_uri": "https://localhost:8080/",
          "height": 374
        },
        "outputId": "b7aab667-f430-4070-8d11-b208591b0147"
      },
      "source": [
        "for thresh in np.arange(0.5, 0.701, 0.01):\n",
        "    thresh = np.round(thresh, 2)\n",
        "    print(\"F1 score at threshold {0} is {1}\".format(thresh, metrics.f1_score(y_test, (predictions>thresh).astype(int),average=\"micro\")))"
      ],
      "execution_count": 52,
      "outputs": [
        {
          "output_type": "stream",
          "text": [
            "F1 score at threshold 0.5 is 0.8455691403658422\n",
            "F1 score at threshold 0.51 is 0.8452203669085263\n",
            "F1 score at threshold 0.52 is 0.844710548394478\n",
            "F1 score at threshold 0.53 is 0.8443075981564\n",
            "F1 score at threshold 0.54 is 0.8436133486766398\n",
            "F1 score at threshold 0.55 is 0.8432315306305613\n",
            "F1 score at threshold 0.56 is 0.8426654326700602\n",
            "F1 score at threshold 0.57 is 0.8419187069415534\n",
            "F1 score at threshold 0.58 is 0.8412456389714434\n",
            "F1 score at threshold 0.59 is 0.8405430966354438\n",
            "F1 score at threshold 0.6 is 0.8396719544424458\n",
            "F1 score at threshold 0.61 is 0.8389818920555545\n",
            "F1 score at threshold 0.62 is 0.8383041221971995\n",
            "F1 score at threshold 0.63 is 0.8376031462468181\n",
            "F1 score at threshold 0.64 is 0.8367428590168235\n",
            "F1 score at threshold 0.65 is 0.8357001972386587\n",
            "F1 score at threshold 0.66 is 0.8345702120928518\n",
            "F1 score at threshold 0.67 is 0.8334544589648384\n",
            "F1 score at threshold 0.68 is 0.8323984980828704\n",
            "F1 score at threshold 0.69 is 0.8313307399195422\n",
            "F1 score at threshold 0.7 is 0.830017637858165\n"
          ],
          "name": "stdout"
        }
      ]
    },
    {
      "cell_type": "code",
      "metadata": {
        "id": "-2EiYjHAuJIV",
        "colab_type": "code",
        "colab": {}
      },
      "source": [
        ""
      ],
      "execution_count": 0,
      "outputs": []
    }
  ]
}